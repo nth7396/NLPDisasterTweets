{
  "nbformat": 4,
  "nbformat_minor": 0,
  "metadata": {
    "colab": {
      "provenance": [],
      "collapsed_sections": [
        "doBDUgZNdPor",
        "Yf33Yx_RdsWM"
      ],
      "gpuType": "A100"
    },
    "kernelspec": {
      "name": "python3",
      "display_name": "Python 3"
    },
    "language_info": {
      "name": "python"
    },
    "widgets": {
      "application/vnd.jupyter.widget-state+json": {
        "bb87a858a6184b818773ef900b60a39c": {
          "model_module": "@jupyter-widgets/controls",
          "model_name": "HBoxModel",
          "model_module_version": "1.5.0",
          "state": {
            "_dom_classes": [],
            "_model_module": "@jupyter-widgets/controls",
            "_model_module_version": "1.5.0",
            "_model_name": "HBoxModel",
            "_view_count": null,
            "_view_module": "@jupyter-widgets/controls",
            "_view_module_version": "1.5.0",
            "_view_name": "HBoxView",
            "box_style": "",
            "children": [
              "IPY_MODEL_138d06680674457cb7ab792da3322eaa",
              "IPY_MODEL_9065fa5efb0f429eb4ff2bf2df36f765",
              "IPY_MODEL_7ce694ba6cfe47169aab6be19d1041c2"
            ],
            "layout": "IPY_MODEL_bcb866207cd94eee80ee1daeb484f6cd"
          }
        },
        "138d06680674457cb7ab792da3322eaa": {
          "model_module": "@jupyter-widgets/controls",
          "model_name": "HTMLModel",
          "model_module_version": "1.5.0",
          "state": {
            "_dom_classes": [],
            "_model_module": "@jupyter-widgets/controls",
            "_model_module_version": "1.5.0",
            "_model_name": "HTMLModel",
            "_view_count": null,
            "_view_module": "@jupyter-widgets/controls",
            "_view_module_version": "1.5.0",
            "_view_name": "HTMLView",
            "description": "",
            "description_tooltip": null,
            "layout": "IPY_MODEL_c6336c426cb94d829dcce0f6d4645ecc",
            "placeholder": "​",
            "style": "IPY_MODEL_786c669ef0b44a11b97b9ff4edefb9c7",
            "value": "Downloading (…)solve/main/vocab.txt: 100%"
          }
        },
        "9065fa5efb0f429eb4ff2bf2df36f765": {
          "model_module": "@jupyter-widgets/controls",
          "model_name": "FloatProgressModel",
          "model_module_version": "1.5.0",
          "state": {
            "_dom_classes": [],
            "_model_module": "@jupyter-widgets/controls",
            "_model_module_version": "1.5.0",
            "_model_name": "FloatProgressModel",
            "_view_count": null,
            "_view_module": "@jupyter-widgets/controls",
            "_view_module_version": "1.5.0",
            "_view_name": "ProgressView",
            "bar_style": "success",
            "description": "",
            "description_tooltip": null,
            "layout": "IPY_MODEL_2d86304703eb4120b348e6eade065aa2",
            "max": 231508,
            "min": 0,
            "orientation": "horizontal",
            "style": "IPY_MODEL_de26aab3d15342438191b91cff92a3cb",
            "value": 231508
          }
        },
        "7ce694ba6cfe47169aab6be19d1041c2": {
          "model_module": "@jupyter-widgets/controls",
          "model_name": "HTMLModel",
          "model_module_version": "1.5.0",
          "state": {
            "_dom_classes": [],
            "_model_module": "@jupyter-widgets/controls",
            "_model_module_version": "1.5.0",
            "_model_name": "HTMLModel",
            "_view_count": null,
            "_view_module": "@jupyter-widgets/controls",
            "_view_module_version": "1.5.0",
            "_view_name": "HTMLView",
            "description": "",
            "description_tooltip": null,
            "layout": "IPY_MODEL_2238b08619eb4a919e861126918d3dd5",
            "placeholder": "​",
            "style": "IPY_MODEL_978f7df48f89460290f9f5123e857c39",
            "value": " 232k/232k [00:00&lt;00:00, 547kB/s]"
          }
        },
        "bcb866207cd94eee80ee1daeb484f6cd": {
          "model_module": "@jupyter-widgets/base",
          "model_name": "LayoutModel",
          "model_module_version": "1.2.0",
          "state": {
            "_model_module": "@jupyter-widgets/base",
            "_model_module_version": "1.2.0",
            "_model_name": "LayoutModel",
            "_view_count": null,
            "_view_module": "@jupyter-widgets/base",
            "_view_module_version": "1.2.0",
            "_view_name": "LayoutView",
            "align_content": null,
            "align_items": null,
            "align_self": null,
            "border": null,
            "bottom": null,
            "display": null,
            "flex": null,
            "flex_flow": null,
            "grid_area": null,
            "grid_auto_columns": null,
            "grid_auto_flow": null,
            "grid_auto_rows": null,
            "grid_column": null,
            "grid_gap": null,
            "grid_row": null,
            "grid_template_areas": null,
            "grid_template_columns": null,
            "grid_template_rows": null,
            "height": null,
            "justify_content": null,
            "justify_items": null,
            "left": null,
            "margin": null,
            "max_height": null,
            "max_width": null,
            "min_height": null,
            "min_width": null,
            "object_fit": null,
            "object_position": null,
            "order": null,
            "overflow": null,
            "overflow_x": null,
            "overflow_y": null,
            "padding": null,
            "right": null,
            "top": null,
            "visibility": null,
            "width": null
          }
        },
        "c6336c426cb94d829dcce0f6d4645ecc": {
          "model_module": "@jupyter-widgets/base",
          "model_name": "LayoutModel",
          "model_module_version": "1.2.0",
          "state": {
            "_model_module": "@jupyter-widgets/base",
            "_model_module_version": "1.2.0",
            "_model_name": "LayoutModel",
            "_view_count": null,
            "_view_module": "@jupyter-widgets/base",
            "_view_module_version": "1.2.0",
            "_view_name": "LayoutView",
            "align_content": null,
            "align_items": null,
            "align_self": null,
            "border": null,
            "bottom": null,
            "display": null,
            "flex": null,
            "flex_flow": null,
            "grid_area": null,
            "grid_auto_columns": null,
            "grid_auto_flow": null,
            "grid_auto_rows": null,
            "grid_column": null,
            "grid_gap": null,
            "grid_row": null,
            "grid_template_areas": null,
            "grid_template_columns": null,
            "grid_template_rows": null,
            "height": null,
            "justify_content": null,
            "justify_items": null,
            "left": null,
            "margin": null,
            "max_height": null,
            "max_width": null,
            "min_height": null,
            "min_width": null,
            "object_fit": null,
            "object_position": null,
            "order": null,
            "overflow": null,
            "overflow_x": null,
            "overflow_y": null,
            "padding": null,
            "right": null,
            "top": null,
            "visibility": null,
            "width": null
          }
        },
        "786c669ef0b44a11b97b9ff4edefb9c7": {
          "model_module": "@jupyter-widgets/controls",
          "model_name": "DescriptionStyleModel",
          "model_module_version": "1.5.0",
          "state": {
            "_model_module": "@jupyter-widgets/controls",
            "_model_module_version": "1.5.0",
            "_model_name": "DescriptionStyleModel",
            "_view_count": null,
            "_view_module": "@jupyter-widgets/base",
            "_view_module_version": "1.2.0",
            "_view_name": "StyleView",
            "description_width": ""
          }
        },
        "2d86304703eb4120b348e6eade065aa2": {
          "model_module": "@jupyter-widgets/base",
          "model_name": "LayoutModel",
          "model_module_version": "1.2.0",
          "state": {
            "_model_module": "@jupyter-widgets/base",
            "_model_module_version": "1.2.0",
            "_model_name": "LayoutModel",
            "_view_count": null,
            "_view_module": "@jupyter-widgets/base",
            "_view_module_version": "1.2.0",
            "_view_name": "LayoutView",
            "align_content": null,
            "align_items": null,
            "align_self": null,
            "border": null,
            "bottom": null,
            "display": null,
            "flex": null,
            "flex_flow": null,
            "grid_area": null,
            "grid_auto_columns": null,
            "grid_auto_flow": null,
            "grid_auto_rows": null,
            "grid_column": null,
            "grid_gap": null,
            "grid_row": null,
            "grid_template_areas": null,
            "grid_template_columns": null,
            "grid_template_rows": null,
            "height": null,
            "justify_content": null,
            "justify_items": null,
            "left": null,
            "margin": null,
            "max_height": null,
            "max_width": null,
            "min_height": null,
            "min_width": null,
            "object_fit": null,
            "object_position": null,
            "order": null,
            "overflow": null,
            "overflow_x": null,
            "overflow_y": null,
            "padding": null,
            "right": null,
            "top": null,
            "visibility": null,
            "width": null
          }
        },
        "de26aab3d15342438191b91cff92a3cb": {
          "model_module": "@jupyter-widgets/controls",
          "model_name": "ProgressStyleModel",
          "model_module_version": "1.5.0",
          "state": {
            "_model_module": "@jupyter-widgets/controls",
            "_model_module_version": "1.5.0",
            "_model_name": "ProgressStyleModel",
            "_view_count": null,
            "_view_module": "@jupyter-widgets/base",
            "_view_module_version": "1.2.0",
            "_view_name": "StyleView",
            "bar_color": null,
            "description_width": ""
          }
        },
        "2238b08619eb4a919e861126918d3dd5": {
          "model_module": "@jupyter-widgets/base",
          "model_name": "LayoutModel",
          "model_module_version": "1.2.0",
          "state": {
            "_model_module": "@jupyter-widgets/base",
            "_model_module_version": "1.2.0",
            "_model_name": "LayoutModel",
            "_view_count": null,
            "_view_module": "@jupyter-widgets/base",
            "_view_module_version": "1.2.0",
            "_view_name": "LayoutView",
            "align_content": null,
            "align_items": null,
            "align_self": null,
            "border": null,
            "bottom": null,
            "display": null,
            "flex": null,
            "flex_flow": null,
            "grid_area": null,
            "grid_auto_columns": null,
            "grid_auto_flow": null,
            "grid_auto_rows": null,
            "grid_column": null,
            "grid_gap": null,
            "grid_row": null,
            "grid_template_areas": null,
            "grid_template_columns": null,
            "grid_template_rows": null,
            "height": null,
            "justify_content": null,
            "justify_items": null,
            "left": null,
            "margin": null,
            "max_height": null,
            "max_width": null,
            "min_height": null,
            "min_width": null,
            "object_fit": null,
            "object_position": null,
            "order": null,
            "overflow": null,
            "overflow_x": null,
            "overflow_y": null,
            "padding": null,
            "right": null,
            "top": null,
            "visibility": null,
            "width": null
          }
        },
        "978f7df48f89460290f9f5123e857c39": {
          "model_module": "@jupyter-widgets/controls",
          "model_name": "DescriptionStyleModel",
          "model_module_version": "1.5.0",
          "state": {
            "_model_module": "@jupyter-widgets/controls",
            "_model_module_version": "1.5.0",
            "_model_name": "DescriptionStyleModel",
            "_view_count": null,
            "_view_module": "@jupyter-widgets/base",
            "_view_module_version": "1.2.0",
            "_view_name": "StyleView",
            "description_width": ""
          }
        },
        "9aef4964014643ffb0214cff843af6a6": {
          "model_module": "@jupyter-widgets/controls",
          "model_name": "HBoxModel",
          "model_module_version": "1.5.0",
          "state": {
            "_dom_classes": [],
            "_model_module": "@jupyter-widgets/controls",
            "_model_module_version": "1.5.0",
            "_model_name": "HBoxModel",
            "_view_count": null,
            "_view_module": "@jupyter-widgets/controls",
            "_view_module_version": "1.5.0",
            "_view_name": "HBoxView",
            "box_style": "",
            "children": [
              "IPY_MODEL_0686b74060a04d6bbd5292b26e74d48e",
              "IPY_MODEL_7d67807478264d57877e0c6bb523c6c4",
              "IPY_MODEL_4c091ed79389478ab1ecff22aaf82854"
            ],
            "layout": "IPY_MODEL_dea8d4f228bc480cabde65b02c511b58"
          }
        },
        "0686b74060a04d6bbd5292b26e74d48e": {
          "model_module": "@jupyter-widgets/controls",
          "model_name": "HTMLModel",
          "model_module_version": "1.5.0",
          "state": {
            "_dom_classes": [],
            "_model_module": "@jupyter-widgets/controls",
            "_model_module_version": "1.5.0",
            "_model_name": "HTMLModel",
            "_view_count": null,
            "_view_module": "@jupyter-widgets/controls",
            "_view_module_version": "1.5.0",
            "_view_name": "HTMLView",
            "description": "",
            "description_tooltip": null,
            "layout": "IPY_MODEL_d4375a49b8b8499f93fbdea7c9220b6c",
            "placeholder": "​",
            "style": "IPY_MODEL_c3b45d27c7844a2e99e87a8077c9c252",
            "value": "Downloading (…)okenizer_config.json: 100%"
          }
        },
        "7d67807478264d57877e0c6bb523c6c4": {
          "model_module": "@jupyter-widgets/controls",
          "model_name": "FloatProgressModel",
          "model_module_version": "1.5.0",
          "state": {
            "_dom_classes": [],
            "_model_module": "@jupyter-widgets/controls",
            "_model_module_version": "1.5.0",
            "_model_name": "FloatProgressModel",
            "_view_count": null,
            "_view_module": "@jupyter-widgets/controls",
            "_view_module_version": "1.5.0",
            "_view_name": "ProgressView",
            "bar_style": "success",
            "description": "",
            "description_tooltip": null,
            "layout": "IPY_MODEL_199e845cde3440cfb8d8529a3a4d5981",
            "max": 28,
            "min": 0,
            "orientation": "horizontal",
            "style": "IPY_MODEL_3fb29c78d74a439fb7821e058b9df930",
            "value": 28
          }
        },
        "4c091ed79389478ab1ecff22aaf82854": {
          "model_module": "@jupyter-widgets/controls",
          "model_name": "HTMLModel",
          "model_module_version": "1.5.0",
          "state": {
            "_dom_classes": [],
            "_model_module": "@jupyter-widgets/controls",
            "_model_module_version": "1.5.0",
            "_model_name": "HTMLModel",
            "_view_count": null,
            "_view_module": "@jupyter-widgets/controls",
            "_view_module_version": "1.5.0",
            "_view_name": "HTMLView",
            "description": "",
            "description_tooltip": null,
            "layout": "IPY_MODEL_a226581c16d54b35b1c0c260256bedc2",
            "placeholder": "​",
            "style": "IPY_MODEL_d65bcdc76623469e8cf21c66dfea613f",
            "value": " 28.0/28.0 [00:00&lt;00:00, 2.50kB/s]"
          }
        },
        "dea8d4f228bc480cabde65b02c511b58": {
          "model_module": "@jupyter-widgets/base",
          "model_name": "LayoutModel",
          "model_module_version": "1.2.0",
          "state": {
            "_model_module": "@jupyter-widgets/base",
            "_model_module_version": "1.2.0",
            "_model_name": "LayoutModel",
            "_view_count": null,
            "_view_module": "@jupyter-widgets/base",
            "_view_module_version": "1.2.0",
            "_view_name": "LayoutView",
            "align_content": null,
            "align_items": null,
            "align_self": null,
            "border": null,
            "bottom": null,
            "display": null,
            "flex": null,
            "flex_flow": null,
            "grid_area": null,
            "grid_auto_columns": null,
            "grid_auto_flow": null,
            "grid_auto_rows": null,
            "grid_column": null,
            "grid_gap": null,
            "grid_row": null,
            "grid_template_areas": null,
            "grid_template_columns": null,
            "grid_template_rows": null,
            "height": null,
            "justify_content": null,
            "justify_items": null,
            "left": null,
            "margin": null,
            "max_height": null,
            "max_width": null,
            "min_height": null,
            "min_width": null,
            "object_fit": null,
            "object_position": null,
            "order": null,
            "overflow": null,
            "overflow_x": null,
            "overflow_y": null,
            "padding": null,
            "right": null,
            "top": null,
            "visibility": null,
            "width": null
          }
        },
        "d4375a49b8b8499f93fbdea7c9220b6c": {
          "model_module": "@jupyter-widgets/base",
          "model_name": "LayoutModel",
          "model_module_version": "1.2.0",
          "state": {
            "_model_module": "@jupyter-widgets/base",
            "_model_module_version": "1.2.0",
            "_model_name": "LayoutModel",
            "_view_count": null,
            "_view_module": "@jupyter-widgets/base",
            "_view_module_version": "1.2.0",
            "_view_name": "LayoutView",
            "align_content": null,
            "align_items": null,
            "align_self": null,
            "border": null,
            "bottom": null,
            "display": null,
            "flex": null,
            "flex_flow": null,
            "grid_area": null,
            "grid_auto_columns": null,
            "grid_auto_flow": null,
            "grid_auto_rows": null,
            "grid_column": null,
            "grid_gap": null,
            "grid_row": null,
            "grid_template_areas": null,
            "grid_template_columns": null,
            "grid_template_rows": null,
            "height": null,
            "justify_content": null,
            "justify_items": null,
            "left": null,
            "margin": null,
            "max_height": null,
            "max_width": null,
            "min_height": null,
            "min_width": null,
            "object_fit": null,
            "object_position": null,
            "order": null,
            "overflow": null,
            "overflow_x": null,
            "overflow_y": null,
            "padding": null,
            "right": null,
            "top": null,
            "visibility": null,
            "width": null
          }
        },
        "c3b45d27c7844a2e99e87a8077c9c252": {
          "model_module": "@jupyter-widgets/controls",
          "model_name": "DescriptionStyleModel",
          "model_module_version": "1.5.0",
          "state": {
            "_model_module": "@jupyter-widgets/controls",
            "_model_module_version": "1.5.0",
            "_model_name": "DescriptionStyleModel",
            "_view_count": null,
            "_view_module": "@jupyter-widgets/base",
            "_view_module_version": "1.2.0",
            "_view_name": "StyleView",
            "description_width": ""
          }
        },
        "199e845cde3440cfb8d8529a3a4d5981": {
          "model_module": "@jupyter-widgets/base",
          "model_name": "LayoutModel",
          "model_module_version": "1.2.0",
          "state": {
            "_model_module": "@jupyter-widgets/base",
            "_model_module_version": "1.2.0",
            "_model_name": "LayoutModel",
            "_view_count": null,
            "_view_module": "@jupyter-widgets/base",
            "_view_module_version": "1.2.0",
            "_view_name": "LayoutView",
            "align_content": null,
            "align_items": null,
            "align_self": null,
            "border": null,
            "bottom": null,
            "display": null,
            "flex": null,
            "flex_flow": null,
            "grid_area": null,
            "grid_auto_columns": null,
            "grid_auto_flow": null,
            "grid_auto_rows": null,
            "grid_column": null,
            "grid_gap": null,
            "grid_row": null,
            "grid_template_areas": null,
            "grid_template_columns": null,
            "grid_template_rows": null,
            "height": null,
            "justify_content": null,
            "justify_items": null,
            "left": null,
            "margin": null,
            "max_height": null,
            "max_width": null,
            "min_height": null,
            "min_width": null,
            "object_fit": null,
            "object_position": null,
            "order": null,
            "overflow": null,
            "overflow_x": null,
            "overflow_y": null,
            "padding": null,
            "right": null,
            "top": null,
            "visibility": null,
            "width": null
          }
        },
        "3fb29c78d74a439fb7821e058b9df930": {
          "model_module": "@jupyter-widgets/controls",
          "model_name": "ProgressStyleModel",
          "model_module_version": "1.5.0",
          "state": {
            "_model_module": "@jupyter-widgets/controls",
            "_model_module_version": "1.5.0",
            "_model_name": "ProgressStyleModel",
            "_view_count": null,
            "_view_module": "@jupyter-widgets/base",
            "_view_module_version": "1.2.0",
            "_view_name": "StyleView",
            "bar_color": null,
            "description_width": ""
          }
        },
        "a226581c16d54b35b1c0c260256bedc2": {
          "model_module": "@jupyter-widgets/base",
          "model_name": "LayoutModel",
          "model_module_version": "1.2.0",
          "state": {
            "_model_module": "@jupyter-widgets/base",
            "_model_module_version": "1.2.0",
            "_model_name": "LayoutModel",
            "_view_count": null,
            "_view_module": "@jupyter-widgets/base",
            "_view_module_version": "1.2.0",
            "_view_name": "LayoutView",
            "align_content": null,
            "align_items": null,
            "align_self": null,
            "border": null,
            "bottom": null,
            "display": null,
            "flex": null,
            "flex_flow": null,
            "grid_area": null,
            "grid_auto_columns": null,
            "grid_auto_flow": null,
            "grid_auto_rows": null,
            "grid_column": null,
            "grid_gap": null,
            "grid_row": null,
            "grid_template_areas": null,
            "grid_template_columns": null,
            "grid_template_rows": null,
            "height": null,
            "justify_content": null,
            "justify_items": null,
            "left": null,
            "margin": null,
            "max_height": null,
            "max_width": null,
            "min_height": null,
            "min_width": null,
            "object_fit": null,
            "object_position": null,
            "order": null,
            "overflow": null,
            "overflow_x": null,
            "overflow_y": null,
            "padding": null,
            "right": null,
            "top": null,
            "visibility": null,
            "width": null
          }
        },
        "d65bcdc76623469e8cf21c66dfea613f": {
          "model_module": "@jupyter-widgets/controls",
          "model_name": "DescriptionStyleModel",
          "model_module_version": "1.5.0",
          "state": {
            "_model_module": "@jupyter-widgets/controls",
            "_model_module_version": "1.5.0",
            "_model_name": "DescriptionStyleModel",
            "_view_count": null,
            "_view_module": "@jupyter-widgets/base",
            "_view_module_version": "1.2.0",
            "_view_name": "StyleView",
            "description_width": ""
          }
        },
        "f5b95434846b42bab211e5955b45675f": {
          "model_module": "@jupyter-widgets/controls",
          "model_name": "HBoxModel",
          "model_module_version": "1.5.0",
          "state": {
            "_dom_classes": [],
            "_model_module": "@jupyter-widgets/controls",
            "_model_module_version": "1.5.0",
            "_model_name": "HBoxModel",
            "_view_count": null,
            "_view_module": "@jupyter-widgets/controls",
            "_view_module_version": "1.5.0",
            "_view_name": "HBoxView",
            "box_style": "",
            "children": [
              "IPY_MODEL_bb59fd59be654c00b06b846aceb8ab02",
              "IPY_MODEL_1aeac6c6f708405a8e4777da056f31b9",
              "IPY_MODEL_1474801a29784e978c3b0c0905ffe48e"
            ],
            "layout": "IPY_MODEL_b54a0c6370864ec295208301de146732"
          }
        },
        "bb59fd59be654c00b06b846aceb8ab02": {
          "model_module": "@jupyter-widgets/controls",
          "model_name": "HTMLModel",
          "model_module_version": "1.5.0",
          "state": {
            "_dom_classes": [],
            "_model_module": "@jupyter-widgets/controls",
            "_model_module_version": "1.5.0",
            "_model_name": "HTMLModel",
            "_view_count": null,
            "_view_module": "@jupyter-widgets/controls",
            "_view_module_version": "1.5.0",
            "_view_name": "HTMLView",
            "description": "",
            "description_tooltip": null,
            "layout": "IPY_MODEL_68f4689c81ea4bc19a582ab7088eb1cc",
            "placeholder": "​",
            "style": "IPY_MODEL_bf02f06dcfe94875b3e5240d517014af",
            "value": "Downloading (…)lve/main/config.json: 100%"
          }
        },
        "1aeac6c6f708405a8e4777da056f31b9": {
          "model_module": "@jupyter-widgets/controls",
          "model_name": "FloatProgressModel",
          "model_module_version": "1.5.0",
          "state": {
            "_dom_classes": [],
            "_model_module": "@jupyter-widgets/controls",
            "_model_module_version": "1.5.0",
            "_model_name": "FloatProgressModel",
            "_view_count": null,
            "_view_module": "@jupyter-widgets/controls",
            "_view_module_version": "1.5.0",
            "_view_name": "ProgressView",
            "bar_style": "success",
            "description": "",
            "description_tooltip": null,
            "layout": "IPY_MODEL_c4f599ca84be465c998702be95789336",
            "max": 570,
            "min": 0,
            "orientation": "horizontal",
            "style": "IPY_MODEL_7002568029f146439df57da17419f1c5",
            "value": 570
          }
        },
        "1474801a29784e978c3b0c0905ffe48e": {
          "model_module": "@jupyter-widgets/controls",
          "model_name": "HTMLModel",
          "model_module_version": "1.5.0",
          "state": {
            "_dom_classes": [],
            "_model_module": "@jupyter-widgets/controls",
            "_model_module_version": "1.5.0",
            "_model_name": "HTMLModel",
            "_view_count": null,
            "_view_module": "@jupyter-widgets/controls",
            "_view_module_version": "1.5.0",
            "_view_name": "HTMLView",
            "description": "",
            "description_tooltip": null,
            "layout": "IPY_MODEL_ddbddcfee538475ca2a5bce0ef501ebf",
            "placeholder": "​",
            "style": "IPY_MODEL_4c5e7448e0f14dcd86a0796531e895b2",
            "value": " 570/570 [00:00&lt;00:00, 44.0kB/s]"
          }
        },
        "b54a0c6370864ec295208301de146732": {
          "model_module": "@jupyter-widgets/base",
          "model_name": "LayoutModel",
          "model_module_version": "1.2.0",
          "state": {
            "_model_module": "@jupyter-widgets/base",
            "_model_module_version": "1.2.0",
            "_model_name": "LayoutModel",
            "_view_count": null,
            "_view_module": "@jupyter-widgets/base",
            "_view_module_version": "1.2.0",
            "_view_name": "LayoutView",
            "align_content": null,
            "align_items": null,
            "align_self": null,
            "border": null,
            "bottom": null,
            "display": null,
            "flex": null,
            "flex_flow": null,
            "grid_area": null,
            "grid_auto_columns": null,
            "grid_auto_flow": null,
            "grid_auto_rows": null,
            "grid_column": null,
            "grid_gap": null,
            "grid_row": null,
            "grid_template_areas": null,
            "grid_template_columns": null,
            "grid_template_rows": null,
            "height": null,
            "justify_content": null,
            "justify_items": null,
            "left": null,
            "margin": null,
            "max_height": null,
            "max_width": null,
            "min_height": null,
            "min_width": null,
            "object_fit": null,
            "object_position": null,
            "order": null,
            "overflow": null,
            "overflow_x": null,
            "overflow_y": null,
            "padding": null,
            "right": null,
            "top": null,
            "visibility": null,
            "width": null
          }
        },
        "68f4689c81ea4bc19a582ab7088eb1cc": {
          "model_module": "@jupyter-widgets/base",
          "model_name": "LayoutModel",
          "model_module_version": "1.2.0",
          "state": {
            "_model_module": "@jupyter-widgets/base",
            "_model_module_version": "1.2.0",
            "_model_name": "LayoutModel",
            "_view_count": null,
            "_view_module": "@jupyter-widgets/base",
            "_view_module_version": "1.2.0",
            "_view_name": "LayoutView",
            "align_content": null,
            "align_items": null,
            "align_self": null,
            "border": null,
            "bottom": null,
            "display": null,
            "flex": null,
            "flex_flow": null,
            "grid_area": null,
            "grid_auto_columns": null,
            "grid_auto_flow": null,
            "grid_auto_rows": null,
            "grid_column": null,
            "grid_gap": null,
            "grid_row": null,
            "grid_template_areas": null,
            "grid_template_columns": null,
            "grid_template_rows": null,
            "height": null,
            "justify_content": null,
            "justify_items": null,
            "left": null,
            "margin": null,
            "max_height": null,
            "max_width": null,
            "min_height": null,
            "min_width": null,
            "object_fit": null,
            "object_position": null,
            "order": null,
            "overflow": null,
            "overflow_x": null,
            "overflow_y": null,
            "padding": null,
            "right": null,
            "top": null,
            "visibility": null,
            "width": null
          }
        },
        "bf02f06dcfe94875b3e5240d517014af": {
          "model_module": "@jupyter-widgets/controls",
          "model_name": "DescriptionStyleModel",
          "model_module_version": "1.5.0",
          "state": {
            "_model_module": "@jupyter-widgets/controls",
            "_model_module_version": "1.5.0",
            "_model_name": "DescriptionStyleModel",
            "_view_count": null,
            "_view_module": "@jupyter-widgets/base",
            "_view_module_version": "1.2.0",
            "_view_name": "StyleView",
            "description_width": ""
          }
        },
        "c4f599ca84be465c998702be95789336": {
          "model_module": "@jupyter-widgets/base",
          "model_name": "LayoutModel",
          "model_module_version": "1.2.0",
          "state": {
            "_model_module": "@jupyter-widgets/base",
            "_model_module_version": "1.2.0",
            "_model_name": "LayoutModel",
            "_view_count": null,
            "_view_module": "@jupyter-widgets/base",
            "_view_module_version": "1.2.0",
            "_view_name": "LayoutView",
            "align_content": null,
            "align_items": null,
            "align_self": null,
            "border": null,
            "bottom": null,
            "display": null,
            "flex": null,
            "flex_flow": null,
            "grid_area": null,
            "grid_auto_columns": null,
            "grid_auto_flow": null,
            "grid_auto_rows": null,
            "grid_column": null,
            "grid_gap": null,
            "grid_row": null,
            "grid_template_areas": null,
            "grid_template_columns": null,
            "grid_template_rows": null,
            "height": null,
            "justify_content": null,
            "justify_items": null,
            "left": null,
            "margin": null,
            "max_height": null,
            "max_width": null,
            "min_height": null,
            "min_width": null,
            "object_fit": null,
            "object_position": null,
            "order": null,
            "overflow": null,
            "overflow_x": null,
            "overflow_y": null,
            "padding": null,
            "right": null,
            "top": null,
            "visibility": null,
            "width": null
          }
        },
        "7002568029f146439df57da17419f1c5": {
          "model_module": "@jupyter-widgets/controls",
          "model_name": "ProgressStyleModel",
          "model_module_version": "1.5.0",
          "state": {
            "_model_module": "@jupyter-widgets/controls",
            "_model_module_version": "1.5.0",
            "_model_name": "ProgressStyleModel",
            "_view_count": null,
            "_view_module": "@jupyter-widgets/base",
            "_view_module_version": "1.2.0",
            "_view_name": "StyleView",
            "bar_color": null,
            "description_width": ""
          }
        },
        "ddbddcfee538475ca2a5bce0ef501ebf": {
          "model_module": "@jupyter-widgets/base",
          "model_name": "LayoutModel",
          "model_module_version": "1.2.0",
          "state": {
            "_model_module": "@jupyter-widgets/base",
            "_model_module_version": "1.2.0",
            "_model_name": "LayoutModel",
            "_view_count": null,
            "_view_module": "@jupyter-widgets/base",
            "_view_module_version": "1.2.0",
            "_view_name": "LayoutView",
            "align_content": null,
            "align_items": null,
            "align_self": null,
            "border": null,
            "bottom": null,
            "display": null,
            "flex": null,
            "flex_flow": null,
            "grid_area": null,
            "grid_auto_columns": null,
            "grid_auto_flow": null,
            "grid_auto_rows": null,
            "grid_column": null,
            "grid_gap": null,
            "grid_row": null,
            "grid_template_areas": null,
            "grid_template_columns": null,
            "grid_template_rows": null,
            "height": null,
            "justify_content": null,
            "justify_items": null,
            "left": null,
            "margin": null,
            "max_height": null,
            "max_width": null,
            "min_height": null,
            "min_width": null,
            "object_fit": null,
            "object_position": null,
            "order": null,
            "overflow": null,
            "overflow_x": null,
            "overflow_y": null,
            "padding": null,
            "right": null,
            "top": null,
            "visibility": null,
            "width": null
          }
        },
        "4c5e7448e0f14dcd86a0796531e895b2": {
          "model_module": "@jupyter-widgets/controls",
          "model_name": "DescriptionStyleModel",
          "model_module_version": "1.5.0",
          "state": {
            "_model_module": "@jupyter-widgets/controls",
            "_model_module_version": "1.5.0",
            "_model_name": "DescriptionStyleModel",
            "_view_count": null,
            "_view_module": "@jupyter-widgets/base",
            "_view_module_version": "1.2.0",
            "_view_name": "StyleView",
            "description_width": ""
          }
        },
        "b2fad56e99534065bdcb4e8d6a0582e8": {
          "model_module": "@jupyter-widgets/controls",
          "model_name": "HBoxModel",
          "model_module_version": "1.5.0",
          "state": {
            "_dom_classes": [],
            "_model_module": "@jupyter-widgets/controls",
            "_model_module_version": "1.5.0",
            "_model_name": "HBoxModel",
            "_view_count": null,
            "_view_module": "@jupyter-widgets/controls",
            "_view_module_version": "1.5.0",
            "_view_name": "HBoxView",
            "box_style": "",
            "children": [
              "IPY_MODEL_0c5fcaa91e364d94bf1220add264459b",
              "IPY_MODEL_bb1420d90ff9426b9199d3f93834e0bb",
              "IPY_MODEL_ee4e480a121c479dbd004f3ed71c6cda"
            ],
            "layout": "IPY_MODEL_e71ccda3cba44ea18a5aa33245e887d3"
          }
        },
        "0c5fcaa91e364d94bf1220add264459b": {
          "model_module": "@jupyter-widgets/controls",
          "model_name": "HTMLModel",
          "model_module_version": "1.5.0",
          "state": {
            "_dom_classes": [],
            "_model_module": "@jupyter-widgets/controls",
            "_model_module_version": "1.5.0",
            "_model_name": "HTMLModel",
            "_view_count": null,
            "_view_module": "@jupyter-widgets/controls",
            "_view_module_version": "1.5.0",
            "_view_name": "HTMLView",
            "description": "",
            "description_tooltip": null,
            "layout": "IPY_MODEL_7a924d95e9084975bd64844a49672536",
            "placeholder": "​",
            "style": "IPY_MODEL_a885a9acdca84b4ba2bf41f67bc1cf35",
            "value": "Downloading model.safetensors: 100%"
          }
        },
        "bb1420d90ff9426b9199d3f93834e0bb": {
          "model_module": "@jupyter-widgets/controls",
          "model_name": "FloatProgressModel",
          "model_module_version": "1.5.0",
          "state": {
            "_dom_classes": [],
            "_model_module": "@jupyter-widgets/controls",
            "_model_module_version": "1.5.0",
            "_model_name": "FloatProgressModel",
            "_view_count": null,
            "_view_module": "@jupyter-widgets/controls",
            "_view_module_version": "1.5.0",
            "_view_name": "ProgressView",
            "bar_style": "success",
            "description": "",
            "description_tooltip": null,
            "layout": "IPY_MODEL_920d7384924b4b67a5b42b74314859c0",
            "max": 440449768,
            "min": 0,
            "orientation": "horizontal",
            "style": "IPY_MODEL_abfa1d509111494194639942674e4960",
            "value": 440449768
          }
        },
        "ee4e480a121c479dbd004f3ed71c6cda": {
          "model_module": "@jupyter-widgets/controls",
          "model_name": "HTMLModel",
          "model_module_version": "1.5.0",
          "state": {
            "_dom_classes": [],
            "_model_module": "@jupyter-widgets/controls",
            "_model_module_version": "1.5.0",
            "_model_name": "HTMLModel",
            "_view_count": null,
            "_view_module": "@jupyter-widgets/controls",
            "_view_module_version": "1.5.0",
            "_view_name": "HTMLView",
            "description": "",
            "description_tooltip": null,
            "layout": "IPY_MODEL_a56b2adc007b4d69aaf3d59dc86ee728",
            "placeholder": "​",
            "style": "IPY_MODEL_cbef7886fab94ad4a2a0fd6589fc6a05",
            "value": " 440M/440M [00:00&lt;00:00, 519MB/s]"
          }
        },
        "e71ccda3cba44ea18a5aa33245e887d3": {
          "model_module": "@jupyter-widgets/base",
          "model_name": "LayoutModel",
          "model_module_version": "1.2.0",
          "state": {
            "_model_module": "@jupyter-widgets/base",
            "_model_module_version": "1.2.0",
            "_model_name": "LayoutModel",
            "_view_count": null,
            "_view_module": "@jupyter-widgets/base",
            "_view_module_version": "1.2.0",
            "_view_name": "LayoutView",
            "align_content": null,
            "align_items": null,
            "align_self": null,
            "border": null,
            "bottom": null,
            "display": null,
            "flex": null,
            "flex_flow": null,
            "grid_area": null,
            "grid_auto_columns": null,
            "grid_auto_flow": null,
            "grid_auto_rows": null,
            "grid_column": null,
            "grid_gap": null,
            "grid_row": null,
            "grid_template_areas": null,
            "grid_template_columns": null,
            "grid_template_rows": null,
            "height": null,
            "justify_content": null,
            "justify_items": null,
            "left": null,
            "margin": null,
            "max_height": null,
            "max_width": null,
            "min_height": null,
            "min_width": null,
            "object_fit": null,
            "object_position": null,
            "order": null,
            "overflow": null,
            "overflow_x": null,
            "overflow_y": null,
            "padding": null,
            "right": null,
            "top": null,
            "visibility": null,
            "width": null
          }
        },
        "7a924d95e9084975bd64844a49672536": {
          "model_module": "@jupyter-widgets/base",
          "model_name": "LayoutModel",
          "model_module_version": "1.2.0",
          "state": {
            "_model_module": "@jupyter-widgets/base",
            "_model_module_version": "1.2.0",
            "_model_name": "LayoutModel",
            "_view_count": null,
            "_view_module": "@jupyter-widgets/base",
            "_view_module_version": "1.2.0",
            "_view_name": "LayoutView",
            "align_content": null,
            "align_items": null,
            "align_self": null,
            "border": null,
            "bottom": null,
            "display": null,
            "flex": null,
            "flex_flow": null,
            "grid_area": null,
            "grid_auto_columns": null,
            "grid_auto_flow": null,
            "grid_auto_rows": null,
            "grid_column": null,
            "grid_gap": null,
            "grid_row": null,
            "grid_template_areas": null,
            "grid_template_columns": null,
            "grid_template_rows": null,
            "height": null,
            "justify_content": null,
            "justify_items": null,
            "left": null,
            "margin": null,
            "max_height": null,
            "max_width": null,
            "min_height": null,
            "min_width": null,
            "object_fit": null,
            "object_position": null,
            "order": null,
            "overflow": null,
            "overflow_x": null,
            "overflow_y": null,
            "padding": null,
            "right": null,
            "top": null,
            "visibility": null,
            "width": null
          }
        },
        "a885a9acdca84b4ba2bf41f67bc1cf35": {
          "model_module": "@jupyter-widgets/controls",
          "model_name": "DescriptionStyleModel",
          "model_module_version": "1.5.0",
          "state": {
            "_model_module": "@jupyter-widgets/controls",
            "_model_module_version": "1.5.0",
            "_model_name": "DescriptionStyleModel",
            "_view_count": null,
            "_view_module": "@jupyter-widgets/base",
            "_view_module_version": "1.2.0",
            "_view_name": "StyleView",
            "description_width": ""
          }
        },
        "920d7384924b4b67a5b42b74314859c0": {
          "model_module": "@jupyter-widgets/base",
          "model_name": "LayoutModel",
          "model_module_version": "1.2.0",
          "state": {
            "_model_module": "@jupyter-widgets/base",
            "_model_module_version": "1.2.0",
            "_model_name": "LayoutModel",
            "_view_count": null,
            "_view_module": "@jupyter-widgets/base",
            "_view_module_version": "1.2.0",
            "_view_name": "LayoutView",
            "align_content": null,
            "align_items": null,
            "align_self": null,
            "border": null,
            "bottom": null,
            "display": null,
            "flex": null,
            "flex_flow": null,
            "grid_area": null,
            "grid_auto_columns": null,
            "grid_auto_flow": null,
            "grid_auto_rows": null,
            "grid_column": null,
            "grid_gap": null,
            "grid_row": null,
            "grid_template_areas": null,
            "grid_template_columns": null,
            "grid_template_rows": null,
            "height": null,
            "justify_content": null,
            "justify_items": null,
            "left": null,
            "margin": null,
            "max_height": null,
            "max_width": null,
            "min_height": null,
            "min_width": null,
            "object_fit": null,
            "object_position": null,
            "order": null,
            "overflow": null,
            "overflow_x": null,
            "overflow_y": null,
            "padding": null,
            "right": null,
            "top": null,
            "visibility": null,
            "width": null
          }
        },
        "abfa1d509111494194639942674e4960": {
          "model_module": "@jupyter-widgets/controls",
          "model_name": "ProgressStyleModel",
          "model_module_version": "1.5.0",
          "state": {
            "_model_module": "@jupyter-widgets/controls",
            "_model_module_version": "1.5.0",
            "_model_name": "ProgressStyleModel",
            "_view_count": null,
            "_view_module": "@jupyter-widgets/base",
            "_view_module_version": "1.2.0",
            "_view_name": "StyleView",
            "bar_color": null,
            "description_width": ""
          }
        },
        "a56b2adc007b4d69aaf3d59dc86ee728": {
          "model_module": "@jupyter-widgets/base",
          "model_name": "LayoutModel",
          "model_module_version": "1.2.0",
          "state": {
            "_model_module": "@jupyter-widgets/base",
            "_model_module_version": "1.2.0",
            "_model_name": "LayoutModel",
            "_view_count": null,
            "_view_module": "@jupyter-widgets/base",
            "_view_module_version": "1.2.0",
            "_view_name": "LayoutView",
            "align_content": null,
            "align_items": null,
            "align_self": null,
            "border": null,
            "bottom": null,
            "display": null,
            "flex": null,
            "flex_flow": null,
            "grid_area": null,
            "grid_auto_columns": null,
            "grid_auto_flow": null,
            "grid_auto_rows": null,
            "grid_column": null,
            "grid_gap": null,
            "grid_row": null,
            "grid_template_areas": null,
            "grid_template_columns": null,
            "grid_template_rows": null,
            "height": null,
            "justify_content": null,
            "justify_items": null,
            "left": null,
            "margin": null,
            "max_height": null,
            "max_width": null,
            "min_height": null,
            "min_width": null,
            "object_fit": null,
            "object_position": null,
            "order": null,
            "overflow": null,
            "overflow_x": null,
            "overflow_y": null,
            "padding": null,
            "right": null,
            "top": null,
            "visibility": null,
            "width": null
          }
        },
        "cbef7886fab94ad4a2a0fd6589fc6a05": {
          "model_module": "@jupyter-widgets/controls",
          "model_name": "DescriptionStyleModel",
          "model_module_version": "1.5.0",
          "state": {
            "_model_module": "@jupyter-widgets/controls",
            "_model_module_version": "1.5.0",
            "_model_name": "DescriptionStyleModel",
            "_view_count": null,
            "_view_module": "@jupyter-widgets/base",
            "_view_module_version": "1.2.0",
            "_view_name": "StyleView",
            "description_width": ""
          }
        }
      }
    }
  },
  "cells": [
    {
      "cell_type": "markdown",
      "source": [
        "# Introduction\n",
        "\n",
        "As the world becomes more digitally connected, social media platforms like Twitter have evolved into crucial information channels during emergencies. This project aims to harness this data resource for the betterment of disaster relief efforts and news reporting. We will utilize the possibilites of train language model transformer such as BERT to classify the tweets into class 0 (not related to a real-life disaster) and 1 (related to a real-life disaster)."
      ],
      "metadata": {
        "id": "BJK09r3T6xnZ"
      }
    },
    {
      "cell_type": "markdown",
      "source": [
        "# Data Preprocessing"
      ],
      "metadata": {
        "id": "A-5yaY9kbOX7"
      }
    },
    {
      "cell_type": "code",
      "source": [
        "!pip install transformers"
      ],
      "metadata": {
        "colab": {
          "base_uri": "https://localhost:8080/"
        },
        "id": "SvZiOEV1kasL",
        "outputId": "bd5512ef-032f-44ea-9ce3-ce1b8c212d5e"
      },
      "execution_count": 2,
      "outputs": [
        {
          "output_type": "stream",
          "name": "stdout",
          "text": [
            "Collecting transformers\n",
            "  Downloading transformers-4.30.2-py3-none-any.whl (7.2 MB)\n",
            "\u001b[2K     \u001b[90m━━━━━━━━━━━━━━━━━━━━━━━━━━━━━━━━━━━━━━━━\u001b[0m \u001b[32m7.2/7.2 MB\u001b[0m \u001b[31m39.3 MB/s\u001b[0m eta \u001b[36m0:00:00\u001b[0m\n",
            "\u001b[?25hRequirement already satisfied: filelock in /usr/local/lib/python3.10/dist-packages (from transformers) (3.12.2)\n",
            "Collecting huggingface-hub<1.0,>=0.14.1 (from transformers)\n",
            "  Downloading huggingface_hub-0.16.4-py3-none-any.whl (268 kB)\n",
            "\u001b[2K     \u001b[90m━━━━━━━━━━━━━━━━━━━━━━━━━━━━━━━━━━━━━━\u001b[0m \u001b[32m268.8/268.8 kB\u001b[0m \u001b[31m12.1 MB/s\u001b[0m eta \u001b[36m0:00:00\u001b[0m\n",
            "\u001b[?25hRequirement already satisfied: numpy>=1.17 in /usr/local/lib/python3.10/dist-packages (from transformers) (1.22.4)\n",
            "Requirement already satisfied: packaging>=20.0 in /usr/local/lib/python3.10/dist-packages (from transformers) (23.1)\n",
            "Requirement already satisfied: pyyaml>=5.1 in /usr/local/lib/python3.10/dist-packages (from transformers) (6.0)\n",
            "Requirement already satisfied: regex!=2019.12.17 in /usr/local/lib/python3.10/dist-packages (from transformers) (2022.10.31)\n",
            "Requirement already satisfied: requests in /usr/local/lib/python3.10/dist-packages (from transformers) (2.27.1)\n",
            "Collecting tokenizers!=0.11.3,<0.14,>=0.11.1 (from transformers)\n",
            "  Downloading tokenizers-0.13.3-cp310-cp310-manylinux_2_17_x86_64.manylinux2014_x86_64.whl (7.8 MB)\n",
            "\u001b[2K     \u001b[90m━━━━━━━━━━━━━━━━━━━━━━━━━━━━━━━━━━━━━━━━\u001b[0m \u001b[32m7.8/7.8 MB\u001b[0m \u001b[31m33.3 MB/s\u001b[0m eta \u001b[36m0:00:00\u001b[0m\n",
            "\u001b[?25hCollecting safetensors>=0.3.1 (from transformers)\n",
            "  Downloading safetensors-0.3.1-cp310-cp310-manylinux_2_17_x86_64.manylinux2014_x86_64.whl (1.3 MB)\n",
            "\u001b[2K     \u001b[90m━━━━━━━━━━━━━━━━━━━━━━━━━━━━━━━━━━━━━━━━\u001b[0m \u001b[32m1.3/1.3 MB\u001b[0m \u001b[31m66.5 MB/s\u001b[0m eta \u001b[36m0:00:00\u001b[0m\n",
            "\u001b[?25hRequirement already satisfied: tqdm>=4.27 in /usr/local/lib/python3.10/dist-packages (from transformers) (4.65.0)\n",
            "Requirement already satisfied: fsspec in /usr/local/lib/python3.10/dist-packages (from huggingface-hub<1.0,>=0.14.1->transformers) (2023.6.0)\n",
            "Requirement already satisfied: typing-extensions>=3.7.4.3 in /usr/local/lib/python3.10/dist-packages (from huggingface-hub<1.0,>=0.14.1->transformers) (4.6.3)\n",
            "Requirement already satisfied: urllib3<1.27,>=1.21.1 in /usr/local/lib/python3.10/dist-packages (from requests->transformers) (1.26.16)\n",
            "Requirement already satisfied: certifi>=2017.4.17 in /usr/local/lib/python3.10/dist-packages (from requests->transformers) (2023.5.7)\n",
            "Requirement already satisfied: charset-normalizer~=2.0.0 in /usr/local/lib/python3.10/dist-packages (from requests->transformers) (2.0.12)\n",
            "Requirement already satisfied: idna<4,>=2.5 in /usr/local/lib/python3.10/dist-packages (from requests->transformers) (3.4)\n",
            "Installing collected packages: tokenizers, safetensors, huggingface-hub, transformers\n",
            "Successfully installed huggingface-hub-0.16.4 safetensors-0.3.1 tokenizers-0.13.3 transformers-4.30.2\n"
          ]
        }
      ]
    },
    {
      "cell_type": "code",
      "execution_count": 3,
      "metadata": {
        "id": "16B2WXSg4yG3"
      },
      "outputs": [],
      "source": [
        "import pandas as pd\n",
        "import tensorflow as tf\n",
        "from transformers import BertTokenizer, TFBertModel\n",
        "from tensorflow.keras.layers import Input, Dropout, Dense\n",
        "from tensorflow.keras.models import Model\n",
        "from tensorflow.keras.optimizers import Adam\n",
        "from tensorflow.keras.callbacks import EarlyStopping\n",
        "from tensorflow.keras.initializers import TruncatedNormal\n",
        "from tensorflow.keras.losses import BinaryCrossentropy\n",
        "from tensorflow.keras.metrics import BinaryAccuracy\n",
        "from tensorflow.keras.utils import to_categorical\n",
        "import numpy as np\n",
        "import re"
      ]
    },
    {
      "cell_type": "code",
      "source": [
        "from tensorflow.keras.preprocessing.sequence import pad_sequences"
      ],
      "metadata": {
        "id": "N0e-m6EvoVEZ"
      },
      "execution_count": 4,
      "outputs": []
    },
    {
      "cell_type": "code",
      "source": [
        "from google.colab import drive\n",
        "drive.mount('/content/drive')"
      ],
      "metadata": {
        "colab": {
          "base_uri": "https://localhost:8080/"
        },
        "id": "AxPuPAU_kjLF",
        "outputId": "61be93e9-d20a-4e42-e5ae-89bce1b57c18"
      },
      "execution_count": 5,
      "outputs": [
        {
          "output_type": "stream",
          "name": "stdout",
          "text": [
            "Mounted at /content/drive\n"
          ]
        }
      ]
    },
    {
      "cell_type": "code",
      "source": [
        "# Load data\n",
        "train_data = pd.read_csv('/content/drive/MyDrive/trainD.csv', sep=',', header=0)"
      ],
      "metadata": {
        "id": "G7IX90kMkxXq"
      },
      "execution_count": 13,
      "outputs": []
    },
    {
      "cell_type": "code",
      "source": [
        "train_data.info()"
      ],
      "metadata": {
        "colab": {
          "base_uri": "https://localhost:8080/"
        },
        "id": "alFWtxB0gkbE",
        "outputId": "52691151-a99a-4da6-f759-3108e48cf0b5"
      },
      "execution_count": 14,
      "outputs": [
        {
          "output_type": "stream",
          "name": "stdout",
          "text": [
            "<class 'pandas.core.frame.DataFrame'>\n",
            "RangeIndex: 7613 entries, 0 to 7612\n",
            "Data columns (total 5 columns):\n",
            " #   Column    Non-Null Count  Dtype \n",
            "---  ------    --------------  ----- \n",
            " 0   id        7613 non-null   int64 \n",
            " 1   keyword   7552 non-null   object\n",
            " 2   location  5080 non-null   object\n",
            " 3   text      7613 non-null   object\n",
            " 4   target    7613 non-null   int64 \n",
            "dtypes: int64(2), object(3)\n",
            "memory usage: 297.5+ KB\n"
          ]
        }
      ]
    },
    {
      "cell_type": "markdown",
      "source": [
        "Check the number of missing data."
      ],
      "metadata": {
        "id": "oiFtLkB2g7Ft"
      }
    },
    {
      "cell_type": "code",
      "source": [
        "missing_data = train_data.isnull().sum()\n",
        "print(missing_data)"
      ],
      "metadata": {
        "colab": {
          "base_uri": "https://localhost:8080/"
        },
        "id": "hLHGeGb0g3JH",
        "outputId": "3840aa17-66ff-435d-c367-ac2264cbbef5"
      },
      "execution_count": 15,
      "outputs": [
        {
          "output_type": "stream",
          "name": "stdout",
          "text": [
            "id             0\n",
            "keyword       61\n",
            "location    2533\n",
            "text           0\n",
            "target         0\n",
            "dtype: int64\n"
          ]
        }
      ]
    },
    {
      "cell_type": "markdown",
      "source": [
        "Let's have a look at the initial data."
      ],
      "metadata": {
        "id": "EiSjHLYRgIPo"
      }
    },
    {
      "cell_type": "code",
      "source": [
        "train_data.head(10)"
      ],
      "metadata": {
        "colab": {
          "base_uri": "https://localhost:8080/",
          "height": 359
        },
        "id": "XyFLHV4Qfov9",
        "outputId": "01c248df-9861-4d1d-ba6b-5ca6738ef046"
      },
      "execution_count": 8,
      "outputs": [
        {
          "output_type": "execute_result",
          "data": {
            "text/plain": [
              "   id keyword location                                               text  \\\n",
              "0   1     NaN      NaN  Our Deeds are the Reason of this #earthquake M...   \n",
              "1   4     NaN      NaN             Forest fire near La Ronge Sask. Canada   \n",
              "2   5     NaN      NaN  All residents asked to 'shelter in place' are ...   \n",
              "3   6     NaN      NaN  13,000 people receive #wildfires evacuation or...   \n",
              "4   7     NaN      NaN  Just got sent this photo from Ruby #Alaska as ...   \n",
              "5   8     NaN      NaN  #RockyFire Update => California Hwy. 20 closed...   \n",
              "6  10     NaN      NaN  #flood #disaster Heavy rain causes flash flood...   \n",
              "7  13     NaN      NaN  I'm on top of the hill and I can see a fire in...   \n",
              "8  14     NaN      NaN  There's an emergency evacuation happening now ...   \n",
              "9  15     NaN      NaN  I'm afraid that the tornado is coming to our a...   \n",
              "\n",
              "   target  \n",
              "0       1  \n",
              "1       1  \n",
              "2       1  \n",
              "3       1  \n",
              "4       1  \n",
              "5       1  \n",
              "6       1  \n",
              "7       1  \n",
              "8       1  \n",
              "9       1  "
            ],
            "text/html": [
              "\n",
              "  <div id=\"df-77b1f91a-7709-47bc-a743-71806c962461\">\n",
              "    <div class=\"colab-df-container\">\n",
              "      <div>\n",
              "<style scoped>\n",
              "    .dataframe tbody tr th:only-of-type {\n",
              "        vertical-align: middle;\n",
              "    }\n",
              "\n",
              "    .dataframe tbody tr th {\n",
              "        vertical-align: top;\n",
              "    }\n",
              "\n",
              "    .dataframe thead th {\n",
              "        text-align: right;\n",
              "    }\n",
              "</style>\n",
              "<table border=\"1\" class=\"dataframe\">\n",
              "  <thead>\n",
              "    <tr style=\"text-align: right;\">\n",
              "      <th></th>\n",
              "      <th>id</th>\n",
              "      <th>keyword</th>\n",
              "      <th>location</th>\n",
              "      <th>text</th>\n",
              "      <th>target</th>\n",
              "    </tr>\n",
              "  </thead>\n",
              "  <tbody>\n",
              "    <tr>\n",
              "      <th>0</th>\n",
              "      <td>1</td>\n",
              "      <td>NaN</td>\n",
              "      <td>NaN</td>\n",
              "      <td>Our Deeds are the Reason of this #earthquake M...</td>\n",
              "      <td>1</td>\n",
              "    </tr>\n",
              "    <tr>\n",
              "      <th>1</th>\n",
              "      <td>4</td>\n",
              "      <td>NaN</td>\n",
              "      <td>NaN</td>\n",
              "      <td>Forest fire near La Ronge Sask. Canada</td>\n",
              "      <td>1</td>\n",
              "    </tr>\n",
              "    <tr>\n",
              "      <th>2</th>\n",
              "      <td>5</td>\n",
              "      <td>NaN</td>\n",
              "      <td>NaN</td>\n",
              "      <td>All residents asked to 'shelter in place' are ...</td>\n",
              "      <td>1</td>\n",
              "    </tr>\n",
              "    <tr>\n",
              "      <th>3</th>\n",
              "      <td>6</td>\n",
              "      <td>NaN</td>\n",
              "      <td>NaN</td>\n",
              "      <td>13,000 people receive #wildfires evacuation or...</td>\n",
              "      <td>1</td>\n",
              "    </tr>\n",
              "    <tr>\n",
              "      <th>4</th>\n",
              "      <td>7</td>\n",
              "      <td>NaN</td>\n",
              "      <td>NaN</td>\n",
              "      <td>Just got sent this photo from Ruby #Alaska as ...</td>\n",
              "      <td>1</td>\n",
              "    </tr>\n",
              "    <tr>\n",
              "      <th>5</th>\n",
              "      <td>8</td>\n",
              "      <td>NaN</td>\n",
              "      <td>NaN</td>\n",
              "      <td>#RockyFire Update =&gt; California Hwy. 20 closed...</td>\n",
              "      <td>1</td>\n",
              "    </tr>\n",
              "    <tr>\n",
              "      <th>6</th>\n",
              "      <td>10</td>\n",
              "      <td>NaN</td>\n",
              "      <td>NaN</td>\n",
              "      <td>#flood #disaster Heavy rain causes flash flood...</td>\n",
              "      <td>1</td>\n",
              "    </tr>\n",
              "    <tr>\n",
              "      <th>7</th>\n",
              "      <td>13</td>\n",
              "      <td>NaN</td>\n",
              "      <td>NaN</td>\n",
              "      <td>I'm on top of the hill and I can see a fire in...</td>\n",
              "      <td>1</td>\n",
              "    </tr>\n",
              "    <tr>\n",
              "      <th>8</th>\n",
              "      <td>14</td>\n",
              "      <td>NaN</td>\n",
              "      <td>NaN</td>\n",
              "      <td>There's an emergency evacuation happening now ...</td>\n",
              "      <td>1</td>\n",
              "    </tr>\n",
              "    <tr>\n",
              "      <th>9</th>\n",
              "      <td>15</td>\n",
              "      <td>NaN</td>\n",
              "      <td>NaN</td>\n",
              "      <td>I'm afraid that the tornado is coming to our a...</td>\n",
              "      <td>1</td>\n",
              "    </tr>\n",
              "  </tbody>\n",
              "</table>\n",
              "</div>\n",
              "      <button class=\"colab-df-convert\" onclick=\"convertToInteractive('df-77b1f91a-7709-47bc-a743-71806c962461')\"\n",
              "              title=\"Convert this dataframe to an interactive table.\"\n",
              "              style=\"display:none;\">\n",
              "        \n",
              "  <svg xmlns=\"http://www.w3.org/2000/svg\" height=\"24px\"viewBox=\"0 0 24 24\"\n",
              "       width=\"24px\">\n",
              "    <path d=\"M0 0h24v24H0V0z\" fill=\"none\"/>\n",
              "    <path d=\"M18.56 5.44l.94 2.06.94-2.06 2.06-.94-2.06-.94-.94-2.06-.94 2.06-2.06.94zm-11 1L8.5 8.5l.94-2.06 2.06-.94-2.06-.94L8.5 2.5l-.94 2.06-2.06.94zm10 10l.94 2.06.94-2.06 2.06-.94-2.06-.94-.94-2.06-.94 2.06-2.06.94z\"/><path d=\"M17.41 7.96l-1.37-1.37c-.4-.4-.92-.59-1.43-.59-.52 0-1.04.2-1.43.59L10.3 9.45l-7.72 7.72c-.78.78-.78 2.05 0 2.83L4 21.41c.39.39.9.59 1.41.59.51 0 1.02-.2 1.41-.59l7.78-7.78 2.81-2.81c.8-.78.8-2.07 0-2.86zM5.41 20L4 18.59l7.72-7.72 1.47 1.35L5.41 20z\"/>\n",
              "  </svg>\n",
              "      </button>\n",
              "      \n",
              "  <style>\n",
              "    .colab-df-container {\n",
              "      display:flex;\n",
              "      flex-wrap:wrap;\n",
              "      gap: 12px;\n",
              "    }\n",
              "\n",
              "    .colab-df-convert {\n",
              "      background-color: #E8F0FE;\n",
              "      border: none;\n",
              "      border-radius: 50%;\n",
              "      cursor: pointer;\n",
              "      display: none;\n",
              "      fill: #1967D2;\n",
              "      height: 32px;\n",
              "      padding: 0 0 0 0;\n",
              "      width: 32px;\n",
              "    }\n",
              "\n",
              "    .colab-df-convert:hover {\n",
              "      background-color: #E2EBFA;\n",
              "      box-shadow: 0px 1px 2px rgba(60, 64, 67, 0.3), 0px 1px 3px 1px rgba(60, 64, 67, 0.15);\n",
              "      fill: #174EA6;\n",
              "    }\n",
              "\n",
              "    [theme=dark] .colab-df-convert {\n",
              "      background-color: #3B4455;\n",
              "      fill: #D2E3FC;\n",
              "    }\n",
              "\n",
              "    [theme=dark] .colab-df-convert:hover {\n",
              "      background-color: #434B5C;\n",
              "      box-shadow: 0px 1px 3px 1px rgba(0, 0, 0, 0.15);\n",
              "      filter: drop-shadow(0px 1px 2px rgba(0, 0, 0, 0.3));\n",
              "      fill: #FFFFFF;\n",
              "    }\n",
              "  </style>\n",
              "\n",
              "      <script>\n",
              "        const buttonEl =\n",
              "          document.querySelector('#df-77b1f91a-7709-47bc-a743-71806c962461 button.colab-df-convert');\n",
              "        buttonEl.style.display =\n",
              "          google.colab.kernel.accessAllowed ? 'block' : 'none';\n",
              "\n",
              "        async function convertToInteractive(key) {\n",
              "          const element = document.querySelector('#df-77b1f91a-7709-47bc-a743-71806c962461');\n",
              "          const dataTable =\n",
              "            await google.colab.kernel.invokeFunction('convertToInteractive',\n",
              "                                                     [key], {});\n",
              "          if (!dataTable) return;\n",
              "\n",
              "          const docLinkHtml = 'Like what you see? Visit the ' +\n",
              "            '<a target=\"_blank\" href=https://colab.research.google.com/notebooks/data_table.ipynb>data table notebook</a>'\n",
              "            + ' to learn more about interactive tables.';\n",
              "          element.innerHTML = '';\n",
              "          dataTable['output_type'] = 'display_data';\n",
              "          await google.colab.output.renderOutput(dataTable, element);\n",
              "          const docLink = document.createElement('div');\n",
              "          docLink.innerHTML = docLinkHtml;\n",
              "          element.appendChild(docLink);\n",
              "        }\n",
              "      </script>\n",
              "    </div>\n",
              "  </div>\n",
              "  "
            ]
          },
          "metadata": {},
          "execution_count": 8
        }
      ]
    },
    {
      "cell_type": "markdown",
      "source": [
        "There is a lot of noises or unexpected characters in the data such as hashtags (#). This will have a negative effect on our text classification task. We will make a preprocess_text function as below to solve this problem."
      ],
      "metadata": {
        "id": "Xb1tSvBdfvVX"
      }
    },
    {
      "cell_type": "code",
      "source": [
        "def preprocess_text(text):\n",
        "    # Remove URLs\n",
        "    text = re.sub(r\"http\\S|www\\S|https\\S\", '', text, flags=re.MULTILINE)\n",
        "    # Remove HTML tags\n",
        "    text = re.sub(r'<.*?>', '', text)\n",
        "    # Remove emoji\n",
        "    text = text.encode('ascii', 'ignore').decode('ascii')\n",
        "    # Remove hashtags\n",
        "    text = re.sub(r'\\#\\w+', '', text)\n",
        "    # Remove quotation marks\n",
        "    text = re.sub(r'\\\"', '', text)\n",
        "    # Remove single quotation marks\n",
        "    text = re.sub(r\"\\'\", '', text)\n",
        "    # Remove extra white spaces\n",
        "    text = re.sub(r'[\\r|\\n|\\r\\n]+', ' ', text)\n",
        "    # To lower case\n",
        "    text = text.lower()\n",
        "    return text"
      ],
      "metadata": {
        "id": "rj2D235Nli_X"
      },
      "execution_count": 9,
      "outputs": []
    },
    {
      "cell_type": "code",
      "source": [
        "# Combine text and keyword columns\n",
        "train_data['text'] = train_data['text'] + ' ' + train_data['keyword'].fillna('')"
      ],
      "metadata": {
        "id": "2BQ2J-FSlmeM"
      },
      "execution_count": 10,
      "outputs": []
    },
    {
      "cell_type": "code",
      "source": [
        "# Preprocessing\n",
        "train_data['text'] = train_data['text'].apply(preprocess_text)"
      ],
      "metadata": {
        "id": "BjoEuMeYls75"
      },
      "execution_count": 11,
      "outputs": []
    },
    {
      "cell_type": "markdown",
      "source": [
        "Let's take a look the a data after preprocessing. Now it looks better!"
      ],
      "metadata": {
        "id": "gksPpuCebkS-"
      }
    },
    {
      "cell_type": "code",
      "source": [
        "train_data.head(10)"
      ],
      "metadata": {
        "colab": {
          "base_uri": "https://localhost:8080/",
          "height": 359
        },
        "id": "ydL52XPklqT1",
        "outputId": "d1156cb0-1883-4a01-96d0-c71ec21c166d"
      },
      "execution_count": 12,
      "outputs": [
        {
          "output_type": "execute_result",
          "data": {
            "text/plain": [
              "   id keyword location                                               text  \\\n",
              "0   1     NaN      NaN  our deeds are the reason of this  may allah fo...   \n",
              "1   4     NaN      NaN            forest fire near la ronge sask. canada    \n",
              "2   5     NaN      NaN  all residents asked to shelter in place are be...   \n",
              "3   6     NaN      NaN  13,000 people receive  evacuation orders in ca...   \n",
              "4   7     NaN      NaN  just got sent this photo from ruby  as smoke f...   \n",
              "5   8     NaN      NaN   update => california hwy. 20 closed in both d...   \n",
              "6  10     NaN      NaN    heavy rain causes flash flooding of streets ...   \n",
              "7  13     NaN      NaN  im on top of the hill and i can see a fire in ...   \n",
              "8  14     NaN      NaN  theres an emergency evacuation happening now i...   \n",
              "9  15     NaN      NaN  im afraid that the tornado is coming to our ar...   \n",
              "\n",
              "   target  \n",
              "0       1  \n",
              "1       1  \n",
              "2       1  \n",
              "3       1  \n",
              "4       1  \n",
              "5       1  \n",
              "6       1  \n",
              "7       1  \n",
              "8       1  \n",
              "9       1  "
            ],
            "text/html": [
              "\n",
              "  <div id=\"df-3a320064-70ca-41dc-84f0-74496468027e\">\n",
              "    <div class=\"colab-df-container\">\n",
              "      <div>\n",
              "<style scoped>\n",
              "    .dataframe tbody tr th:only-of-type {\n",
              "        vertical-align: middle;\n",
              "    }\n",
              "\n",
              "    .dataframe tbody tr th {\n",
              "        vertical-align: top;\n",
              "    }\n",
              "\n",
              "    .dataframe thead th {\n",
              "        text-align: right;\n",
              "    }\n",
              "</style>\n",
              "<table border=\"1\" class=\"dataframe\">\n",
              "  <thead>\n",
              "    <tr style=\"text-align: right;\">\n",
              "      <th></th>\n",
              "      <th>id</th>\n",
              "      <th>keyword</th>\n",
              "      <th>location</th>\n",
              "      <th>text</th>\n",
              "      <th>target</th>\n",
              "    </tr>\n",
              "  </thead>\n",
              "  <tbody>\n",
              "    <tr>\n",
              "      <th>0</th>\n",
              "      <td>1</td>\n",
              "      <td>NaN</td>\n",
              "      <td>NaN</td>\n",
              "      <td>our deeds are the reason of this  may allah fo...</td>\n",
              "      <td>1</td>\n",
              "    </tr>\n",
              "    <tr>\n",
              "      <th>1</th>\n",
              "      <td>4</td>\n",
              "      <td>NaN</td>\n",
              "      <td>NaN</td>\n",
              "      <td>forest fire near la ronge sask. canada</td>\n",
              "      <td>1</td>\n",
              "    </tr>\n",
              "    <tr>\n",
              "      <th>2</th>\n",
              "      <td>5</td>\n",
              "      <td>NaN</td>\n",
              "      <td>NaN</td>\n",
              "      <td>all residents asked to shelter in place are be...</td>\n",
              "      <td>1</td>\n",
              "    </tr>\n",
              "    <tr>\n",
              "      <th>3</th>\n",
              "      <td>6</td>\n",
              "      <td>NaN</td>\n",
              "      <td>NaN</td>\n",
              "      <td>13,000 people receive  evacuation orders in ca...</td>\n",
              "      <td>1</td>\n",
              "    </tr>\n",
              "    <tr>\n",
              "      <th>4</th>\n",
              "      <td>7</td>\n",
              "      <td>NaN</td>\n",
              "      <td>NaN</td>\n",
              "      <td>just got sent this photo from ruby  as smoke f...</td>\n",
              "      <td>1</td>\n",
              "    </tr>\n",
              "    <tr>\n",
              "      <th>5</th>\n",
              "      <td>8</td>\n",
              "      <td>NaN</td>\n",
              "      <td>NaN</td>\n",
              "      <td>update =&gt; california hwy. 20 closed in both d...</td>\n",
              "      <td>1</td>\n",
              "    </tr>\n",
              "    <tr>\n",
              "      <th>6</th>\n",
              "      <td>10</td>\n",
              "      <td>NaN</td>\n",
              "      <td>NaN</td>\n",
              "      <td>heavy rain causes flash flooding of streets ...</td>\n",
              "      <td>1</td>\n",
              "    </tr>\n",
              "    <tr>\n",
              "      <th>7</th>\n",
              "      <td>13</td>\n",
              "      <td>NaN</td>\n",
              "      <td>NaN</td>\n",
              "      <td>im on top of the hill and i can see a fire in ...</td>\n",
              "      <td>1</td>\n",
              "    </tr>\n",
              "    <tr>\n",
              "      <th>8</th>\n",
              "      <td>14</td>\n",
              "      <td>NaN</td>\n",
              "      <td>NaN</td>\n",
              "      <td>theres an emergency evacuation happening now i...</td>\n",
              "      <td>1</td>\n",
              "    </tr>\n",
              "    <tr>\n",
              "      <th>9</th>\n",
              "      <td>15</td>\n",
              "      <td>NaN</td>\n",
              "      <td>NaN</td>\n",
              "      <td>im afraid that the tornado is coming to our ar...</td>\n",
              "      <td>1</td>\n",
              "    </tr>\n",
              "  </tbody>\n",
              "</table>\n",
              "</div>\n",
              "      <button class=\"colab-df-convert\" onclick=\"convertToInteractive('df-3a320064-70ca-41dc-84f0-74496468027e')\"\n",
              "              title=\"Convert this dataframe to an interactive table.\"\n",
              "              style=\"display:none;\">\n",
              "        \n",
              "  <svg xmlns=\"http://www.w3.org/2000/svg\" height=\"24px\"viewBox=\"0 0 24 24\"\n",
              "       width=\"24px\">\n",
              "    <path d=\"M0 0h24v24H0V0z\" fill=\"none\"/>\n",
              "    <path d=\"M18.56 5.44l.94 2.06.94-2.06 2.06-.94-2.06-.94-.94-2.06-.94 2.06-2.06.94zm-11 1L8.5 8.5l.94-2.06 2.06-.94-2.06-.94L8.5 2.5l-.94 2.06-2.06.94zm10 10l.94 2.06.94-2.06 2.06-.94-2.06-.94-.94-2.06-.94 2.06-2.06.94z\"/><path d=\"M17.41 7.96l-1.37-1.37c-.4-.4-.92-.59-1.43-.59-.52 0-1.04.2-1.43.59L10.3 9.45l-7.72 7.72c-.78.78-.78 2.05 0 2.83L4 21.41c.39.39.9.59 1.41.59.51 0 1.02-.2 1.41-.59l7.78-7.78 2.81-2.81c.8-.78.8-2.07 0-2.86zM5.41 20L4 18.59l7.72-7.72 1.47 1.35L5.41 20z\"/>\n",
              "  </svg>\n",
              "      </button>\n",
              "      \n",
              "  <style>\n",
              "    .colab-df-container {\n",
              "      display:flex;\n",
              "      flex-wrap:wrap;\n",
              "      gap: 12px;\n",
              "    }\n",
              "\n",
              "    .colab-df-convert {\n",
              "      background-color: #E8F0FE;\n",
              "      border: none;\n",
              "      border-radius: 50%;\n",
              "      cursor: pointer;\n",
              "      display: none;\n",
              "      fill: #1967D2;\n",
              "      height: 32px;\n",
              "      padding: 0 0 0 0;\n",
              "      width: 32px;\n",
              "    }\n",
              "\n",
              "    .colab-df-convert:hover {\n",
              "      background-color: #E2EBFA;\n",
              "      box-shadow: 0px 1px 2px rgba(60, 64, 67, 0.3), 0px 1px 3px 1px rgba(60, 64, 67, 0.15);\n",
              "      fill: #174EA6;\n",
              "    }\n",
              "\n",
              "    [theme=dark] .colab-df-convert {\n",
              "      background-color: #3B4455;\n",
              "      fill: #D2E3FC;\n",
              "    }\n",
              "\n",
              "    [theme=dark] .colab-df-convert:hover {\n",
              "      background-color: #434B5C;\n",
              "      box-shadow: 0px 1px 3px 1px rgba(0, 0, 0, 0.15);\n",
              "      filter: drop-shadow(0px 1px 2px rgba(0, 0, 0, 0.3));\n",
              "      fill: #FFFFFF;\n",
              "    }\n",
              "  </style>\n",
              "\n",
              "      <script>\n",
              "        const buttonEl =\n",
              "          document.querySelector('#df-3a320064-70ca-41dc-84f0-74496468027e button.colab-df-convert');\n",
              "        buttonEl.style.display =\n",
              "          google.colab.kernel.accessAllowed ? 'block' : 'none';\n",
              "\n",
              "        async function convertToInteractive(key) {\n",
              "          const element = document.querySelector('#df-3a320064-70ca-41dc-84f0-74496468027e');\n",
              "          const dataTable =\n",
              "            await google.colab.kernel.invokeFunction('convertToInteractive',\n",
              "                                                     [key], {});\n",
              "          if (!dataTable) return;\n",
              "\n",
              "          const docLinkHtml = 'Like what you see? Visit the ' +\n",
              "            '<a target=\"_blank\" href=https://colab.research.google.com/notebooks/data_table.ipynb>data table notebook</a>'\n",
              "            + ' to learn more about interactive tables.';\n",
              "          element.innerHTML = '';\n",
              "          dataTable['output_type'] = 'display_data';\n",
              "          await google.colab.output.renderOutput(dataTable, element);\n",
              "          const docLink = document.createElement('div');\n",
              "          docLink.innerHTML = docLinkHtml;\n",
              "          element.appendChild(docLink);\n",
              "        }\n",
              "      </script>\n",
              "    </div>\n",
              "  </div>\n",
              "  "
            ]
          },
          "metadata": {},
          "execution_count": 12
        }
      ]
    },
    {
      "cell_type": "markdown",
      "source": [
        "A visualization of frequency of labels"
      ],
      "metadata": {
        "id": "jYkCls6gbtST"
      }
    },
    {
      "cell_type": "code",
      "source": [
        "import matplotlib.pyplot as plt\n",
        "\n",
        "# Assume 'train_data' is your DataFrame and 'target' is your target column\n",
        "label_counts = train_data['target'].value_counts()\n",
        "\n",
        "plt.figure(figsize=(5, 6))\n",
        "plt.bar(label_counts.index, label_counts.values, color=['blue', 'orange'], alpha=0.8)\n",
        "plt.title('Frequency of Disaster Tweets')\n",
        "plt.xlabel('Label')\n",
        "plt.ylabel('Frequency')\n",
        "plt.xticks([0, 1], ['Not a Disaster (0)', 'Disaster (1)'])\n",
        "plt.show()"
      ],
      "metadata": {
        "colab": {
          "base_uri": "https://localhost:8080/",
          "height": 564
        },
        "id": "TF_ErNDVnina",
        "outputId": "5f2ce158-cd8e-4b18-fbc6-40f50cc7d70a"
      },
      "execution_count": 14,
      "outputs": [
        {
          "output_type": "display_data",
          "data": {
            "text/plain": [
              "<Figure size 500x600 with 1 Axes>"
            ],
            "image/png": "[encoded data removed]"
          },
          "metadata": {}
        }
      ]
    },
    {
      "cell_type": "code",
      "source": [],
      "metadata": {
        "id": "EAl-BLZP9feq"
      },
      "execution_count": null,
      "outputs": []
    },
    {
      "cell_type": "markdown",
      "source": [
        "The visualization above showed that there is no evidence of class imbalance, we can proceed with our models."
      ],
      "metadata": {
        "id": "rhHIkqoZb3XN"
      }
    },
    {
      "cell_type": "markdown",
      "source": [
        "# BERT Language Model\n",
        "\n",
        "BERT is a transformers-based model that has undergone pretraining on an extensive collection of English data in a self-supervised manner.\n",
        "\n",
        "This indicates that the raw texts were used for pretraining without any human intervention or labeling, thus enabling the use of a vast amount of publicly accessible data. The model employs an automatic process to derive inputs and labels from these texts.\n",
        "\n",
        "This internal representation can then be harnessed to derive features that are valuable for downstream tasks. For example, if you possess a dataset of labeled sentences, you can utilize the features generated by the BERT model as inputs to train a typical classifier."
      ],
      "metadata": {
        "id": "xkxBrZjJbar4"
      }
    },
    {
      "cell_type": "code",
      "source": [
        "# Load the BERT tokenizer and language model\n",
        "tokenizer = BertTokenizer.from_pretrained('bert-base-uncased')\n",
        "bert_model = TFBertModel.from_pretrained('bert-base-uncased')"
      ],
      "metadata": {
        "colab": {
          "base_uri": "https://localhost:8080/",
          "height": 250,
          "referenced_widgets": [
            "bb87a858a6184b818773ef900b60a39c",
            "138d06680674457cb7ab792da3322eaa",
            "9065fa5efb0f429eb4ff2bf2df36f765",
            "7ce694ba6cfe47169aab6be19d1041c2",
            "bcb866207cd94eee80ee1daeb484f6cd",
            "c6336c426cb94d829dcce0f6d4645ecc",
            "786c669ef0b44a11b97b9ff4edefb9c7",
            "2d86304703eb4120b348e6eade065aa2",
            "de26aab3d15342438191b91cff92a3cb",
            "2238b08619eb4a919e861126918d3dd5",
            "978f7df48f89460290f9f5123e857c39",
            "9aef4964014643ffb0214cff843af6a6",
            "0686b74060a04d6bbd5292b26e74d48e",
            "7d67807478264d57877e0c6bb523c6c4",
            "4c091ed79389478ab1ecff22aaf82854",
            "dea8d4f228bc480cabde65b02c511b58",
            "d4375a49b8b8499f93fbdea7c9220b6c",
            "c3b45d27c7844a2e99e87a8077c9c252",
            "199e845cde3440cfb8d8529a3a4d5981",
            "3fb29c78d74a439fb7821e058b9df930",
            "a226581c16d54b35b1c0c260256bedc2",
            "d65bcdc76623469e8cf21c66dfea613f",
            "f5b95434846b42bab211e5955b45675f",
            "bb59fd59be654c00b06b846aceb8ab02",
            "1aeac6c6f708405a8e4777da056f31b9",
            "1474801a29784e978c3b0c0905ffe48e",
            "b54a0c6370864ec295208301de146732",
            "68f4689c81ea4bc19a582ab7088eb1cc",
            "bf02f06dcfe94875b3e5240d517014af",
            "c4f599ca84be465c998702be95789336",
            "7002568029f146439df57da17419f1c5",
            "ddbddcfee538475ca2a5bce0ef501ebf",
            "4c5e7448e0f14dcd86a0796531e895b2",
            "b2fad56e99534065bdcb4e8d6a0582e8",
            "0c5fcaa91e364d94bf1220add264459b",
            "bb1420d90ff9426b9199d3f93834e0bb",
            "ee4e480a121c479dbd004f3ed71c6cda",
            "e71ccda3cba44ea18a5aa33245e887d3",
            "7a924d95e9084975bd64844a49672536",
            "a885a9acdca84b4ba2bf41f67bc1cf35",
            "920d7384924b4b67a5b42b74314859c0",
            "abfa1d509111494194639942674e4960",
            "a56b2adc007b4d69aaf3d59dc86ee728",
            "cbef7886fab94ad4a2a0fd6589fc6a05"
          ]
        },
        "id": "2au8Gs0SmwUi",
        "outputId": "127635b5-a1ab-48b6-83c7-bf80308158d4"
      },
      "execution_count": 15,
      "outputs": [
        {
          "output_type": "display_data",
          "data": {
            "text/plain": [
              "Downloading (…)solve/main/vocab.txt:   0%|          | 0.00/232k [00:00<?, ?B/s]"
            ],
            "application/vnd.jupyter.widget-view+json": {
              "version_major": 2,
              "version_minor": 0,
              "model_id": "bb87a858a6184b818773ef900b60a39c"
            }
          },
          "metadata": {}
        },
        {
          "output_type": "display_data",
          "data": {
            "text/plain": [
              "Downloading (…)okenizer_config.json:   0%|          | 0.00/28.0 [00:00<?, ?B/s]"
            ],
            "application/vnd.jupyter.widget-view+json": {
              "version_major": 2,
              "version_minor": 0,
              "model_id": "9aef4964014643ffb0214cff843af6a6"
            }
          },
          "metadata": {}
        },
        {
          "output_type": "display_data",
          "data": {
            "text/plain": [
              "Downloading (…)lve/main/config.json:   0%|          | 0.00/570 [00:00<?, ?B/s]"
            ],
            "application/vnd.jupyter.widget-view+json": {
              "version_major": 2,
              "version_minor": 0,
              "model_id": "f5b95434846b42bab211e5955b45675f"
            }
          },
          "metadata": {}
        },
        {
          "output_type": "display_data",
          "data": {
            "text/plain": [
              "Downloading model.safetensors:   0%|          | 0.00/440M [00:00<?, ?B/s]"
            ],
            "application/vnd.jupyter.widget-view+json": {
              "version_major": 2,
              "version_minor": 0,
              "model_id": "b2fad56e99534065bdcb4e8d6a0582e8"
            }
          },
          "metadata": {}
        },
        {
          "output_type": "stream",
          "name": "stderr",
          "text": [
            "Some weights of the PyTorch model were not used when initializing the TF 2.0 model TFBertModel: ['cls.predictions.transform.dense.weight', 'cls.predictions.bias', 'cls.seq_relationship.weight', 'cls.predictions.transform.LayerNorm.bias', 'cls.predictions.transform.LayerNorm.weight', 'cls.seq_relationship.bias', 'cls.predictions.transform.dense.bias']\n",
            "- This IS expected if you are initializing TFBertModel from a PyTorch model trained on another task or with another architecture (e.g. initializing a TFBertForSequenceClassification model from a BertForPreTraining model).\n",
            "- This IS NOT expected if you are initializing TFBertModel from a PyTorch model that you expect to be exactly identical (e.g. initializing a TFBertForSequenceClassification model from a BertForSequenceClassification model).\n",
            "All the weights of TFBertModel were initialized from the PyTorch model.\n",
            "If your task is similar to the task the model of the checkpoint was trained on, you can already use TFBertModel for predictions without further training.\n"
          ]
        }
      ]
    },
    {
      "cell_type": "markdown",
      "source": [
        "# RNN with LSTM\n",
        "\n",
        "I will experiment with 3 different RNN architectures: firstly with LSTM, secondly with GRU and lastly with Bidirectional LSTM.\n",
        "\n",
        "For our project, we will use word embeddings with 'bert-base-uncased'."
      ],
      "metadata": {
        "id": "7BqbV7MwOQHk"
      }
    },
    {
      "cell_type": "markdown",
      "source": [
        "### Model Training"
      ],
      "metadata": {
        "id": "nCxlOpHDdLrd"
      }
    },
    {
      "cell_type": "code",
      "source": [
        "from tensorflow.keras.layers import Input, LSTM, Dense, Masking"
      ],
      "metadata": {
        "id": "5eLKVpJiOmaL"
      },
      "execution_count": 20,
      "outputs": []
    },
    {
      "cell_type": "code",
      "source": [
        "# Tokenize the data\n",
        "input_ids = tokenizer(train_data['text'].tolist(), truncation=True, padding=True, max_length=128, return_tensors='tf')"
      ],
      "metadata": {
        "id": "IHQneqX3IWUb"
      },
      "execution_count": 16,
      "outputs": []
    },
    {
      "cell_type": "code",
      "source": [
        "# Prepare the data\n",
        "X_train = {'input_ids': input_ids['input_ids'], 'attention_mask': input_ids['attention_mask']}\n",
        "y_train = train_data['target'].values"
      ],
      "metadata": {
        "id": "ZfA-s94pIWUe"
      },
      "execution_count": 17,
      "outputs": []
    },
    {
      "cell_type": "code",
      "source": [
        "input_ids_in = Input(shape=(78,), name='input_ids', dtype='int32')\n",
        "mask_in = Input(shape=(78,), name='attention_mask', dtype='int32')"
      ],
      "metadata": {
        "id": "J99Dn5vlIWUe"
      },
      "execution_count": 18,
      "outputs": []
    },
    {
      "cell_type": "code",
      "source": [
        "# We access the transformer model within our bert_model\n",
        "embedding_layer = bert_model.layers[0]\n",
        "embeddings = embedding_layer(input_ids_in, attention_mask=mask_in)[0]"
      ],
      "metadata": {
        "id": "ZJVRUEthIWUf"
      },
      "execution_count": 19,
      "outputs": []
    },
    {
      "cell_type": "code",
      "source": [
        "# Define the model architecture\n",
        "def build_model():\n",
        "    embeddings = bert_model(input_ids_in, attention_mask=mask_in)[0]\n",
        "    rnn_input = Masking(mask_value=0)(embeddings)\n",
        "    rnn_output = LSTM(units=64)(rnn_input)\n",
        "    output = Dense(units=1, activation='sigmoid')(rnn_output)\n",
        "    model = Model(inputs=[input_ids_in, mask_in], outputs=output)\n",
        "    return model"
      ],
      "metadata": {
        "id": "vmctZ1VvIWUg"
      },
      "execution_count": 21,
      "outputs": []
    },
    {
      "cell_type": "code",
      "source": [
        "# Build the model\n",
        "modelLSTM = build_model()\n",
        "modelLSTM.compile(optimizer=Adam(learning_rate=1e-5), loss='binary_crossentropy', metrics=['accuracy'])"
      ],
      "metadata": {
        "id": "IpI6G2rnOseb"
      },
      "execution_count": 23,
      "outputs": []
    },
    {
      "cell_type": "code",
      "source": [
        "modelLSTM.summary()"
      ],
      "metadata": {
        "colab": {
          "base_uri": "https://localhost:8080/"
        },
        "id": "aD7dOUKcOz5h",
        "outputId": "15f5d353-cce7-48b6-ea20-3065a98a0359"
      },
      "execution_count": 24,
      "outputs": [
        {
          "output_type": "stream",
          "name": "stdout",
          "text": [
            "Model: \"model_1\"\n",
            "__________________________________________________________________________________________________\n",
            " Layer (type)                   Output Shape         Param #     Connected to                     \n",
            "==================================================================================================\n",
            " input_ids (InputLayer)         [(None, 78)]         0           []                               \n",
            "                                                                                                  \n",
            " attention_mask (InputLayer)    [(None, 78)]         0           []                               \n",
            "                                                                                                  \n",
            " tf_bert_model (TFBertModel)    TFBaseModelOutputWi  109482240   ['input_ids[0][0]',              \n",
            "                                thPoolingAndCrossAt               'attention_mask[0][0]']         \n",
            "                                tentions(last_hidde                                               \n",
            "                                n_state=(None, 78,                                                \n",
            "                                768),                                                             \n",
            "                                 pooler_output=(Non                                               \n",
            "                                e, 768),                                                          \n",
            "                                 past_key_values=No                                               \n",
            "                                ne, hidden_states=N                                               \n",
            "                                one, attentions=Non                                               \n",
            "                                e, cross_attentions                                               \n",
            "                                =None)                                                            \n",
            "                                                                                                  \n",
            " masking_1 (Masking)            (None, 78, 768)      0           ['tf_bert_model[1][0]']          \n",
            "                                                                                                  \n",
            " lstm_1 (LSTM)                  (None, 64)           213248      ['masking_1[0][0]']              \n",
            "                                                                                                  \n",
            " dense_1 (Dense)                (None, 1)            65          ['lstm_1[0][0]']                 \n",
            "                                                                                                  \n",
            "==================================================================================================\n",
            "Total params: 109,695,553\n",
            "Trainable params: 109,695,553\n",
            "Non-trainable params: 0\n",
            "__________________________________________________________________________________________________\n"
          ]
        }
      ]
    },
    {
      "cell_type": "code",
      "source": [
        "# Train the model\n",
        "modelLSTM.fit(X_train, y_train, epochs=6, verbose=1)"
      ],
      "metadata": {
        "colab": {
          "base_uri": "https://localhost:8080/"
        },
        "id": "wT3tRU_RO3LK",
        "outputId": "7a274a39-76e4-4896-b8c2-c7303ee82adc"
      },
      "execution_count": 25,
      "outputs": [
        {
          "output_type": "stream",
          "name": "stdout",
          "text": [
            "Epoch 1/6\n"
          ]
        },
        {
          "output_type": "stream",
          "name": "stderr",
          "text": [
            "WARNING:tensorflow:Gradients do not exist for variables ['tf_bert_model/bert/pooler/dense/kernel:0', 'tf_bert_model/bert/pooler/dense/bias:0'] when minimizing the loss. If you're using `model.compile()`, did you forget to provide a `loss` argument?\n",
            "WARNING:tensorflow:Gradients do not exist for variables ['tf_bert_model/bert/pooler/dense/kernel:0', 'tf_bert_model/bert/pooler/dense/bias:0'] when minimizing the loss. If you're using `model.compile()`, did you forget to provide a `loss` argument?\n",
            "WARNING:tensorflow:Gradients do not exist for variables ['tf_bert_model/bert/pooler/dense/kernel:0', 'tf_bert_model/bert/pooler/dense/bias:0'] when minimizing the loss. If you're using `model.compile()`, did you forget to provide a `loss` argument?\n",
            "WARNING:tensorflow:Gradients do not exist for variables ['tf_bert_model/bert/pooler/dense/kernel:0', 'tf_bert_model/bert/pooler/dense/bias:0'] when minimizing the loss. If you're using `model.compile()`, did you forget to provide a `loss` argument?\n"
          ]
        },
        {
          "output_type": "stream",
          "name": "stdout",
          "text": [
            "238/238 [==============================] - 90s 160ms/step - loss: 0.4543 - accuracy: 0.7921\n",
            "Epoch 2/6\n",
            "238/238 [==============================] - 23s 95ms/step - loss: 0.3503 - accuracy: 0.8568\n",
            "Epoch 3/6\n",
            "238/238 [==============================] - 21s 87ms/step - loss: 0.2851 - accuracy: 0.8882\n",
            "Epoch 4/6\n",
            "238/238 [==============================] - 19s 82ms/step - loss: 0.2211 - accuracy: 0.9187\n",
            "Epoch 5/6\n",
            "238/238 [==============================] - 20s 81ms/step - loss: 0.1682 - accuracy: 0.9384\n",
            "Epoch 6/6\n",
            "238/238 [==============================] - 19s 80ms/step - loss: 0.1299 - accuracy: 0.9513\n"
          ]
        },
        {
          "output_type": "execute_result",
          "data": {
            "text/plain": [
              "<keras.callbacks.History at 0x7f3a1c5b17b0>"
            ]
          },
          "metadata": {},
          "execution_count": 25
        }
      ]
    },
    {
      "cell_type": "code",
      "source": [
        "import matplotlib.pyplot as plt\n",
        "\n",
        "epochs = range(1, 7)\n",
        "training_acc = [0.7921, 0.8568, 0.8882, 0.9187, 0.9384, 0.9513]\n",
        "training_loss = [0.4543, 0.3503, 0.2851, 0.2211, 0.1682, 0.1299]\n",
        "\n",
        "# Plot the training accuracy\n",
        "plt.figure(figsize=(8, 6))\n",
        "plt.plot(epochs, training_acc, marker='o', linestyle='-', color='blue')\n",
        "plt.title('Training Accuracy over Epochs')\n",
        "plt.xlabel('Epoch')\n",
        "plt.ylabel('Accuracy')\n",
        "plt.xticks(epochs)\n",
        "plt.grid(True)\n",
        "plt.show()"
      ],
      "metadata": {
        "colab": {
          "base_uri": "https://localhost:8080/",
          "height": 564
        },
        "id": "8E3Sfyc8XxOI",
        "outputId": "3d7b0d80-6b7e-49b6-cc33-897eec96e3b1"
      },
      "execution_count": 6,
      "outputs": [
        {
          "output_type": "display_data",
          "data": {
            "text/plain": [
              "<Figure size 800x600 with 1 Axes>"
            ],
            "image/png": "[encoded data removed]"
          },
          "metadata": {}
        }
      ]
    },
    {
      "cell_type": "code",
      "source": [
        "# Plot the training loss\n",
        "plt.figure(figsize=(8, 6))\n",
        "plt.plot(epochs, training_loss, marker='o', linestyle='-', color='red')\n",
        "plt.title('Training Loss over Epochs')\n",
        "plt.xlabel('Epoch')\n",
        "plt.ylabel('Loss')\n",
        "plt.xticks(epochs)\n",
        "plt.grid(True)\n",
        "plt.show()"
      ],
      "metadata": {
        "colab": {
          "base_uri": "https://localhost:8080/",
          "height": 564
        },
        "id": "nRGVkac1IWUj",
        "outputId": "a242ccda-42f1-40e4-f425-4ef1fde1b72e"
      },
      "execution_count": 7,
      "outputs": [
        {
          "output_type": "display_data",
          "data": {
            "text/plain": [
              "<Figure size 800x600 with 1 Axes>"
            ],
            "image/png": "[encoded data removed]"
          },
          "metadata": {}
        }
      ]
    },
    {
      "cell_type": "markdown",
      "source": [
        "### Prediciting on the Test Set"
      ],
      "metadata": {
        "id": "doBDUgZNdPor"
      }
    },
    {
      "cell_type": "code",
      "source": [
        "# Load test data\n",
        "test_data = pd.read_csv('/content/drive/MyDrive/testD.csv')"
      ],
      "metadata": {
        "id": "RjCG19O8IWUj"
      },
      "execution_count": 26,
      "outputs": []
    },
    {
      "cell_type": "code",
      "source": [
        "# Combine text and keyword columns\n",
        "test_data['text'] = test_data['text'] + ' ' + test_data['keyword'].fillna('')"
      ],
      "metadata": {
        "id": "8tWYceGaIWUk"
      },
      "execution_count": 27,
      "outputs": []
    },
    {
      "cell_type": "code",
      "source": [
        "# Preprocessing\n",
        "test_data['text'] = test_data['text'].apply(preprocess_text)"
      ],
      "metadata": {
        "id": "IHAu2qWTIWUk"
      },
      "execution_count": 28,
      "outputs": []
    },
    {
      "cell_type": "code",
      "source": [
        "# Tokenize the test data\n",
        "input_ids_test = tokenizer(test_data['text'].tolist(), truncation=True, padding='max_length', max_length=78, return_tensors='tf')\n",
        "\n",
        "# Prepare the test data\n",
        "X_test = {\n",
        "    'input_ids': input_ids_test['input_ids'],\n",
        "    'attention_mask': input_ids_test['attention_mask']\n",
        "}"
      ],
      "metadata": {
        "id": "OnHi4ytZIWUk"
      },
      "execution_count": 29,
      "outputs": []
    },
    {
      "cell_type": "code",
      "source": [
        "# Generate predictions\n",
        "predictions = modelLSTM.predict(X_test)"
      ],
      "metadata": {
        "colab": {
          "base_uri": "https://localhost:8080/"
        },
        "outputId": "1a1b41cb-0778-4925-afa8-0b94a398d067",
        "id": "XkHYzsh_IWUl"
      },
      "execution_count": 30,
      "outputs": [
        {
          "output_type": "stream",
          "name": "stdout",
          "text": [
            "102/102 [==============================] - 7s 33ms/step\n"
          ]
        }
      ]
    },
    {
      "cell_type": "code",
      "source": [
        "# Convert prediction probabilities to binary predictions\n",
        "predictions_binary = [1 if pred >= 0.5 else 0 for pred in predictions]"
      ],
      "metadata": {
        "id": "AbMGmvGPIWUl"
      },
      "execution_count": 31,
      "outputs": []
    },
    {
      "cell_type": "code",
      "source": [
        "# Create a DataFrame with id and target columns\n",
        "submission_df = pd.DataFrame({'id': test_data['id'], 'target': predictions_binary})\n",
        "\n",
        "# Save the DataFrame to CSV\n",
        "submission_df.to_csv('DsubmissionLSTM.csv', index=False)"
      ],
      "metadata": {
        "id": "TAlTCjaxIWUm"
      },
      "execution_count": 32,
      "outputs": []
    },
    {
      "cell_type": "code",
      "source": [
        "submission_df.head(5)"
      ],
      "metadata": {
        "colab": {
          "base_uri": "https://localhost:8080/",
          "height": 204
        },
        "outputId": "9f0cb16c-e536-401d-dfc1-e4f0cd776db9",
        "id": "G_Lc_q0GIWUm"
      },
      "execution_count": 33,
      "outputs": [
        {
          "output_type": "execute_result",
          "data": {
            "text/plain": [
              "   id  target\n",
              "0   0       1\n",
              "1   2       1\n",
              "2   3       1\n",
              "3   9       0\n",
              "4  11       1"
            ],
            "text/html": [
              "\n",
              "  <div id=\"df-7050725c-79c4-41d6-9ab6-0d6a64368438\">\n",
              "    <div class=\"colab-df-container\">\n",
              "      <div>\n",
              "<style scoped>\n",
              "    .dataframe tbody tr th:only-of-type {\n",
              "        vertical-align: middle;\n",
              "    }\n",
              "\n",
              "    .dataframe tbody tr th {\n",
              "        vertical-align: top;\n",
              "    }\n",
              "\n",
              "    .dataframe thead th {\n",
              "        text-align: right;\n",
              "    }\n",
              "</style>\n",
              "<table border=\"1\" class=\"dataframe\">\n",
              "  <thead>\n",
              "    <tr style=\"text-align: right;\">\n",
              "      <th></th>\n",
              "      <th>id</th>\n",
              "      <th>target</th>\n",
              "    </tr>\n",
              "  </thead>\n",
              "  <tbody>\n",
              "    <tr>\n",
              "      <th>0</th>\n",
              "      <td>0</td>\n",
              "      <td>1</td>\n",
              "    </tr>\n",
              "    <tr>\n",
              "      <th>1</th>\n",
              "      <td>2</td>\n",
              "      <td>1</td>\n",
              "    </tr>\n",
              "    <tr>\n",
              "      <th>2</th>\n",
              "      <td>3</td>\n",
              "      <td>1</td>\n",
              "    </tr>\n",
              "    <tr>\n",
              "      <th>3</th>\n",
              "      <td>9</td>\n",
              "      <td>0</td>\n",
              "    </tr>\n",
              "    <tr>\n",
              "      <th>4</th>\n",
              "      <td>11</td>\n",
              "      <td>1</td>\n",
              "    </tr>\n",
              "  </tbody>\n",
              "</table>\n",
              "</div>\n",
              "      <button class=\"colab-df-convert\" onclick=\"convertToInteractive('df-7050725c-79c4-41d6-9ab6-0d6a64368438')\"\n",
              "              title=\"Convert this dataframe to an interactive table.\"\n",
              "              style=\"display:none;\">\n",
              "        \n",
              "  <svg xmlns=\"http://www.w3.org/2000/svg\" height=\"24px\"viewBox=\"0 0 24 24\"\n",
              "       width=\"24px\">\n",
              "    <path d=\"M0 0h24v24H0V0z\" fill=\"none\"/>\n",
              "    <path d=\"M18.56 5.44l.94 2.06.94-2.06 2.06-.94-2.06-.94-.94-2.06-.94 2.06-2.06.94zm-11 1L8.5 8.5l.94-2.06 2.06-.94-2.06-.94L8.5 2.5l-.94 2.06-2.06.94zm10 10l.94 2.06.94-2.06 2.06-.94-2.06-.94-.94-2.06-.94 2.06-2.06.94z\"/><path d=\"M17.41 7.96l-1.37-1.37c-.4-.4-.92-.59-1.43-.59-.52 0-1.04.2-1.43.59L10.3 9.45l-7.72 7.72c-.78.78-.78 2.05 0 2.83L4 21.41c.39.39.9.59 1.41.59.51 0 1.02-.2 1.41-.59l7.78-7.78 2.81-2.81c.8-.78.8-2.07 0-2.86zM5.41 20L4 18.59l7.72-7.72 1.47 1.35L5.41 20z\"/>\n",
              "  </svg>\n",
              "      </button>\n",
              "      \n",
              "  <style>\n",
              "    .colab-df-container {\n",
              "      display:flex;\n",
              "      flex-wrap:wrap;\n",
              "      gap: 12px;\n",
              "    }\n",
              "\n",
              "    .colab-df-convert {\n",
              "      background-color: #E8F0FE;\n",
              "      border: none;\n",
              "      border-radius: 50%;\n",
              "      cursor: pointer;\n",
              "      display: none;\n",
              "      fill: #1967D2;\n",
              "      height: 32px;\n",
              "      padding: 0 0 0 0;\n",
              "      width: 32px;\n",
              "    }\n",
              "\n",
              "    .colab-df-convert:hover {\n",
              "      background-color: #E2EBFA;\n",
              "      box-shadow: 0px 1px 2px rgba(60, 64, 67, 0.3), 0px 1px 3px 1px rgba(60, 64, 67, 0.15);\n",
              "      fill: #174EA6;\n",
              "    }\n",
              "\n",
              "    [theme=dark] .colab-df-convert {\n",
              "      background-color: #3B4455;\n",
              "      fill: #D2E3FC;\n",
              "    }\n",
              "\n",
              "    [theme=dark] .colab-df-convert:hover {\n",
              "      background-color: #434B5C;\n",
              "      box-shadow: 0px 1px 3px 1px rgba(0, 0, 0, 0.15);\n",
              "      filter: drop-shadow(0px 1px 2px rgba(0, 0, 0, 0.3));\n",
              "      fill: #FFFFFF;\n",
              "    }\n",
              "  </style>\n",
              "\n",
              "      <script>\n",
              "        const buttonEl =\n",
              "          document.querySelector('#df-7050725c-79c4-41d6-9ab6-0d6a64368438 button.colab-df-convert');\n",
              "        buttonEl.style.display =\n",
              "          google.colab.kernel.accessAllowed ? 'block' : 'none';\n",
              "\n",
              "        async function convertToInteractive(key) {\n",
              "          const element = document.querySelector('#df-7050725c-79c4-41d6-9ab6-0d6a64368438');\n",
              "          const dataTable =\n",
              "            await google.colab.kernel.invokeFunction('convertToInteractive',\n",
              "                                                     [key], {});\n",
              "          if (!dataTable) return;\n",
              "\n",
              "          const docLinkHtml = 'Like what you see? Visit the ' +\n",
              "            '<a target=\"_blank\" href=https://colab.research.google.com/notebooks/data_table.ipynb>data table notebook</a>'\n",
              "            + ' to learn more about interactive tables.';\n",
              "          element.innerHTML = '';\n",
              "          dataTable['output_type'] = 'display_data';\n",
              "          await google.colab.output.renderOutput(dataTable, element);\n",
              "          const docLink = document.createElement('div');\n",
              "          docLink.innerHTML = docLinkHtml;\n",
              "          element.appendChild(docLink);\n",
              "        }\n",
              "      </script>\n",
              "    </div>\n",
              "  </div>\n",
              "  "
            ]
          },
          "metadata": {},
          "execution_count": 33
        }
      ]
    },
    {
      "cell_type": "code",
      "source": [
        "from google.colab import files\n",
        "files.download('DsubmissionLSTM.csv')"
      ],
      "metadata": {
        "colab": {
          "base_uri": "https://localhost:8080/",
          "height": 17
        },
        "outputId": "20045029-3df6-4fcc-bc85-b573e7613eab",
        "id": "MQ4clIfdIWUn"
      },
      "execution_count": 34,
      "outputs": [
        {
          "output_type": "display_data",
          "data": {
            "text/plain": [
              "<IPython.core.display.Javascript object>"
            ],
            "application/javascript": [
              "\n",
              "    async function download(id, filename, size) {\n",
              "      if (!google.colab.kernel.accessAllowed) {\n",
              "        return;\n",
              "      }\n",
              "      const div = document.createElement('div');\n",
              "      const label = document.createElement('label');\n",
              "      label.textContent = `Downloading \"${filename}\": `;\n",
              "      div.appendChild(label);\n",
              "      const progress = document.createElement('progress');\n",
              "      progress.max = size;\n",
              "      div.appendChild(progress);\n",
              "      document.body.appendChild(div);\n",
              "\n",
              "      const buffers = [];\n",
              "      let downloaded = 0;\n",
              "\n",
              "      const channel = await google.colab.kernel.comms.open(id);\n",
              "      // Send a message to notify the kernel that we're ready.\n",
              "      channel.send({})\n",
              "\n",
              "      for await (const message of channel.messages) {\n",
              "        // Send a message to notify the kernel that we're ready.\n",
              "        channel.send({})\n",
              "        if (message.buffers) {\n",
              "          for (const buffer of message.buffers) {\n",
              "            buffers.push(buffer);\n",
              "            downloaded += buffer.byteLength;\n",
              "            progress.value = downloaded;\n",
              "          }\n",
              "        }\n",
              "      }\n",
              "      const blob = new Blob(buffers, {type: 'application/binary'});\n",
              "      const a = document.createElement('a');\n",
              "      a.href = window.URL.createObjectURL(blob);\n",
              "      a.download = filename;\n",
              "      div.appendChild(a);\n",
              "      a.click();\n",
              "      div.remove();\n",
              "    }\n",
              "  "
            ]
          },
          "metadata": {}
        },
        {
          "output_type": "display_data",
          "data": {
            "text/plain": [
              "<IPython.core.display.Javascript object>"
            ],
            "application/javascript": [
              "download(\"download_b60a1099-6a2f-4724-a0fc-05986f6c8250\", \"DsubmissionLSTM.csv\", 22746)"
            ]
          },
          "metadata": {}
        }
      ]
    },
    {
      "cell_type": "markdown",
      "source": [
        "# RNN with GRU"
      ],
      "metadata": {
        "id": "KOSu3_dUPg5B"
      }
    },
    {
      "cell_type": "markdown",
      "source": [
        "### Model Training"
      ],
      "metadata": {
        "id": "3ol1iLKAdUHA"
      }
    },
    {
      "cell_type": "code",
      "source": [
        "import tensorflow as tf\n",
        "from tensorflow.keras.layers import Input, GRU, Dense, Masking"
      ],
      "metadata": {
        "id": "vPcZgSvAPmtr"
      },
      "execution_count": 35,
      "outputs": []
    },
    {
      "cell_type": "code",
      "source": [
        "# Tokenize the data\n",
        "input_ids = tokenizer(train_data['text'].tolist(), truncation=True, padding=True, max_length=128, return_tensors='tf')"
      ],
      "metadata": {
        "id": "6IwnYHYoQCDU"
      },
      "execution_count": 36,
      "outputs": []
    },
    {
      "cell_type": "code",
      "source": [
        "# Prepare the data\n",
        "X_train = {'input_ids': input_ids['input_ids'], 'attention_mask': input_ids['attention_mask']}\n",
        "y_train = train_data['target'].values"
      ],
      "metadata": {
        "id": "q3AdxGADQCDW"
      },
      "execution_count": 37,
      "outputs": []
    },
    {
      "cell_type": "code",
      "source": [
        "input_ids_in = Input(shape=(78,), name='input_ids', dtype='int32')\n",
        "mask_in = Input(shape=(78,), name='attention_mask', dtype='int32')"
      ],
      "metadata": {
        "id": "XxHAjoDiQCDX"
      },
      "execution_count": 38,
      "outputs": []
    },
    {
      "cell_type": "code",
      "source": [
        "# We access the transformer model within our bert_model\n",
        "embedding_layer = bert_model.layers[0]\n",
        "embeddings = embedding_layer(input_ids_in, attention_mask=mask_in)[0]"
      ],
      "metadata": {
        "id": "qzTZLv5SQCDY"
      },
      "execution_count": 39,
      "outputs": []
    },
    {
      "cell_type": "code",
      "source": [
        "# Define the model architecture with GRU\n",
        "def build_gru_model():\n",
        "    embeddings = bert_model(input_ids_in, attention_mask=mask_in)[0]\n",
        "    rnn_input = Masking(mask_value=0)(embeddings)\n",
        "    rnn_output = GRU(units=64)(rnn_input)\n",
        "    output = Dense(units=1, activation='sigmoid')(rnn_output)\n",
        "    model = Model(inputs=[input_ids_in, mask_in], outputs=output)\n",
        "    return model"
      ],
      "metadata": {
        "id": "d7zl7nV-QCDY"
      },
      "execution_count": 40,
      "outputs": []
    },
    {
      "cell_type": "code",
      "source": [
        "# Build the model\n",
        "modelGRU = build_gru_model()\n",
        "modelGRU.compile(optimizer=Adam(learning_rate=1e-5), loss='binary_crossentropy', metrics=['accuracy'])"
      ],
      "metadata": {
        "id": "MQN7zdQ0QCDZ"
      },
      "execution_count": 41,
      "outputs": []
    },
    {
      "cell_type": "code",
      "source": [
        "modelGRU.summary()"
      ],
      "metadata": {
        "colab": {
          "base_uri": "https://localhost:8080/"
        },
        "outputId": "345a5cb9-728a-423b-ed7a-67d6c5ccad2b",
        "id": "b5n8qhdAQCDa"
      },
      "execution_count": 42,
      "outputs": [
        {
          "output_type": "stream",
          "name": "stdout",
          "text": [
            "Model: \"model_2\"\n",
            "__________________________________________________________________________________________________\n",
            " Layer (type)                   Output Shape         Param #     Connected to                     \n",
            "==================================================================================================\n",
            " input_ids (InputLayer)         [(None, 78)]         0           []                               \n",
            "                                                                                                  \n",
            " attention_mask (InputLayer)    [(None, 78)]         0           []                               \n",
            "                                                                                                  \n",
            " tf_bert_model (TFBertModel)    TFBaseModelOutputWi  109482240   ['input_ids[0][0]',              \n",
            "                                thPoolingAndCrossAt               'attention_mask[0][0]']         \n",
            "                                tentions(last_hidde                                               \n",
            "                                n_state=(None, 78,                                                \n",
            "                                768),                                                             \n",
            "                                 pooler_output=(Non                                               \n",
            "                                e, 768),                                                          \n",
            "                                 past_key_values=No                                               \n",
            "                                ne, hidden_states=N                                               \n",
            "                                one, attentions=Non                                               \n",
            "                                e, cross_attentions                                               \n",
            "                                =None)                                                            \n",
            "                                                                                                  \n",
            " masking_2 (Masking)            (None, 78, 768)      0           ['tf_bert_model[2][0]']          \n",
            "                                                                                                  \n",
            " gru (GRU)                      (None, 64)           160128      ['masking_2[0][0]']              \n",
            "                                                                                                  \n",
            " dense_2 (Dense)                (None, 1)            65          ['gru[0][0]']                    \n",
            "                                                                                                  \n",
            "==================================================================================================\n",
            "Total params: 109,642,433\n",
            "Trainable params: 109,642,433\n",
            "Non-trainable params: 0\n",
            "__________________________________________________________________________________________________\n"
          ]
        }
      ]
    },
    {
      "cell_type": "code",
      "source": [
        "# Train the model\n",
        "modelGRU.fit(X_train, y_train, epochs=6, verbose=1)"
      ],
      "metadata": {
        "colab": {
          "base_uri": "https://localhost:8080/"
        },
        "outputId": "fb7bdece-a14e-47ca-c7ec-45b62adbda65",
        "id": "iPMGX0LEQCDb"
      },
      "execution_count": 43,
      "outputs": [
        {
          "output_type": "stream",
          "name": "stdout",
          "text": [
            "Epoch 1/6\n"
          ]
        },
        {
          "output_type": "stream",
          "name": "stderr",
          "text": [
            "WARNING:tensorflow:Gradients do not exist for variables ['tf_bert_model/bert/pooler/dense/kernel:0', 'tf_bert_model/bert/pooler/dense/bias:0'] when minimizing the loss. If you're using `model.compile()`, did you forget to provide a `loss` argument?\n",
            "WARNING:tensorflow:Gradients do not exist for variables ['tf_bert_model/bert/pooler/dense/kernel:0', 'tf_bert_model/bert/pooler/dense/bias:0'] when minimizing the loss. If you're using `model.compile()`, did you forget to provide a `loss` argument?\n",
            "WARNING:tensorflow:Gradients do not exist for variables ['tf_bert_model/bert/pooler/dense/kernel:0', 'tf_bert_model/bert/pooler/dense/bias:0'] when minimizing the loss. If you're using `model.compile()`, did you forget to provide a `loss` argument?\n",
            "WARNING:tensorflow:Gradients do not exist for variables ['tf_bert_model/bert/pooler/dense/kernel:0', 'tf_bert_model/bert/pooler/dense/bias:0'] when minimizing the loss. If you're using `model.compile()`, did you forget to provide a `loss` argument?\n"
          ]
        },
        {
          "output_type": "stream",
          "name": "stdout",
          "text": [
            "238/238 [==============================] - 80s 136ms/step - loss: 0.1488 - accuracy: 0.9481\n",
            "Epoch 2/6\n",
            "238/238 [==============================] - 21s 88ms/step - loss: 0.0937 - accuracy: 0.9658\n",
            "Epoch 3/6\n",
            "238/238 [==============================] - 20s 82ms/step - loss: 0.0718 - accuracy: 0.9750\n",
            "Epoch 4/6\n",
            "238/238 [==============================] - 19s 82ms/step - loss: 0.0616 - accuracy: 0.9749\n",
            "Epoch 5/6\n",
            "238/238 [==============================] - 19s 80ms/step - loss: 0.0511 - accuracy: 0.9806\n",
            "Epoch 6/6\n",
            "238/238 [==============================] - 19s 79ms/step - loss: 0.0526 - accuracy: 0.9786\n"
          ]
        },
        {
          "output_type": "execute_result",
          "data": {
            "text/plain": [
              "<keras.callbacks.History at 0x7f3997307280>"
            ]
          },
          "metadata": {},
          "execution_count": 43
        }
      ]
    },
    {
      "cell_type": "code",
      "source": [
        "epochs = range(1, 7)\n",
        "training_acc = [0.9481, 0.9658, 0.9750, 0.9749, 0.9806, 0.9786]\n",
        "training_loss = [0.1488, 0.0937, 0.0718, 0.0616, 0.0511, 0.0526]\n",
        "\n",
        "# Plot the training accuracy\n",
        "plt.figure(figsize=(8, 6))\n",
        "plt.plot(epochs, training_acc, marker='o', linestyle='-', color='blue')\n",
        "plt.title('Training Accuracy over Epochs')\n",
        "plt.xlabel('Epoch')\n",
        "plt.ylabel('Accuracy')\n",
        "plt.xticks(epochs)\n",
        "plt.grid(True)\n",
        "plt.show()"
      ],
      "metadata": {
        "colab": {
          "base_uri": "https://localhost:8080/",
          "height": 564
        },
        "id": "qnSbh0c3QCDc",
        "outputId": "ddd0c365-919f-49c2-c424-7c549309988a"
      },
      "execution_count": 9,
      "outputs": [
        {
          "output_type": "display_data",
          "data": {
            "text/plain": [
              "<Figure size 800x600 with 1 Axes>"
            ],
            "image/png": "[encoded data removed]"
          },
          "metadata": {}
        }
      ]
    },
    {
      "cell_type": "code",
      "source": [
        "# Plot the training loss\n",
        "plt.figure(figsize=(8, 6))\n",
        "plt.plot(epochs, training_loss, marker='o', linestyle='-', color='red')\n",
        "plt.title('Training Loss over Epochs')\n",
        "plt.xlabel('Epoch')\n",
        "plt.ylabel('Loss')\n",
        "plt.xticks(epochs)\n",
        "plt.grid(True)\n",
        "plt.show()"
      ],
      "metadata": {
        "colab": {
          "base_uri": "https://localhost:8080/",
          "height": 564
        },
        "id": "aC_Y_b2XYUo0",
        "outputId": "61b4bda8-f9b6-45de-e129-727a01d68a08"
      },
      "execution_count": 10,
      "outputs": [
        {
          "output_type": "display_data",
          "data": {
            "text/plain": [
              "<Figure size 800x600 with 1 Axes>"
            ],
            "image/png": "[encoded data removed]"
          },
          "metadata": {}
        }
      ]
    },
    {
      "cell_type": "markdown",
      "source": [
        "### Predicting on the Test Set"
      ],
      "metadata": {
        "id": "3Fq72CT-dkQ3"
      }
    },
    {
      "cell_type": "code",
      "source": [
        "# Load test data\n",
        "test_data = pd.read_csv('/content/drive/MyDrive/testD.csv')"
      ],
      "metadata": {
        "id": "0MzHKr-YQCDc"
      },
      "execution_count": 44,
      "outputs": []
    },
    {
      "cell_type": "code",
      "source": [
        "# Combine text and keyword columns\n",
        "test_data['text'] = test_data['text'] + ' ' + test_data['keyword'].fillna('')"
      ],
      "metadata": {
        "id": "j3ateFG2QCDd"
      },
      "execution_count": 45,
      "outputs": []
    },
    {
      "cell_type": "code",
      "source": [
        "# Preprocessing\n",
        "test_data['text'] = test_data['text'].apply(preprocess_text)"
      ],
      "metadata": {
        "id": "XnflAXn4QCDe"
      },
      "execution_count": 46,
      "outputs": []
    },
    {
      "cell_type": "code",
      "source": [
        "# Tokenize the test data\n",
        "input_ids_test = tokenizer(test_data['text'].tolist(), truncation=True, padding='max_length', max_length=78, return_tensors='tf')\n",
        "\n",
        "# Prepare the test data\n",
        "X_test = {\n",
        "    'input_ids': input_ids_test['input_ids'],\n",
        "    'attention_mask': input_ids_test['attention_mask']\n",
        "}"
      ],
      "metadata": {
        "id": "yy0xHM0iQCDe"
      },
      "execution_count": 47,
      "outputs": []
    },
    {
      "cell_type": "code",
      "source": [
        "# Generate predictions\n",
        "predictions = modelGRU.predict(X_test)"
      ],
      "metadata": {
        "colab": {
          "base_uri": "https://localhost:8080/"
        },
        "outputId": "bc46daf6-b613-469b-df2c-9297884773c6",
        "id": "qO0obwyAQCDe"
      },
      "execution_count": 48,
      "outputs": [
        {
          "output_type": "stream",
          "name": "stdout",
          "text": [
            "102/102 [==============================] - 7s 32ms/step\n"
          ]
        }
      ]
    },
    {
      "cell_type": "code",
      "source": [
        "# Convert prediction probabilities to binary predictions\n",
        "predictions_binary = [1 if pred >= 0.5 else 0 for pred in predictions]"
      ],
      "metadata": {
        "id": "VEIREeQ1QCDf"
      },
      "execution_count": 49,
      "outputs": []
    },
    {
      "cell_type": "code",
      "source": [
        "# Create a DataFrame with id and target columns\n",
        "submission_df = pd.DataFrame({'id': test_data['id'], 'target': predictions_binary})\n",
        "\n",
        "# Save the DataFrame to CSV\n",
        "submission_df.to_csv('DsubmissionGRU.csv', index=False)"
      ],
      "metadata": {
        "id": "65q465FxQCDf"
      },
      "execution_count": 50,
      "outputs": []
    },
    {
      "cell_type": "code",
      "source": [
        "submission_df.head(5)"
      ],
      "metadata": {
        "colab": {
          "base_uri": "https://localhost:8080/",
          "height": 204
        },
        "outputId": "8ae2c119-710f-472c-c664-1a35d8b463d0",
        "id": "m7ZS4PU8QCDh"
      },
      "execution_count": 51,
      "outputs": [
        {
          "output_type": "execute_result",
          "data": {
            "text/plain": [
              "   id  target\n",
              "0   0       1\n",
              "1   2       1\n",
              "2   3       1\n",
              "3   9       0\n",
              "4  11       1"
            ],
            "text/html": [
              "\n",
              "  <div id=\"df-6abb5106-5ca2-444a-905a-abbd6895fa9f\">\n",
              "    <div class=\"colab-df-container\">\n",
              "      <div>\n",
              "<style scoped>\n",
              "    .dataframe tbody tr th:only-of-type {\n",
              "        vertical-align: middle;\n",
              "    }\n",
              "\n",
              "    .dataframe tbody tr th {\n",
              "        vertical-align: top;\n",
              "    }\n",
              "\n",
              "    .dataframe thead th {\n",
              "        text-align: right;\n",
              "    }\n",
              "</style>\n",
              "<table border=\"1\" class=\"dataframe\">\n",
              "  <thead>\n",
              "    <tr style=\"text-align: right;\">\n",
              "      <th></th>\n",
              "      <th>id</th>\n",
              "      <th>target</th>\n",
              "    </tr>\n",
              "  </thead>\n",
              "  <tbody>\n",
              "    <tr>\n",
              "      <th>0</th>\n",
              "      <td>0</td>\n",
              "      <td>1</td>\n",
              "    </tr>\n",
              "    <tr>\n",
              "      <th>1</th>\n",
              "      <td>2</td>\n",
              "      <td>1</td>\n",
              "    </tr>\n",
              "    <tr>\n",
              "      <th>2</th>\n",
              "      <td>3</td>\n",
              "      <td>1</td>\n",
              "    </tr>\n",
              "    <tr>\n",
              "      <th>3</th>\n",
              "      <td>9</td>\n",
              "      <td>0</td>\n",
              "    </tr>\n",
              "    <tr>\n",
              "      <th>4</th>\n",
              "      <td>11</td>\n",
              "      <td>1</td>\n",
              "    </tr>\n",
              "  </tbody>\n",
              "</table>\n",
              "</div>\n",
              "      <button class=\"colab-df-convert\" onclick=\"convertToInteractive('df-6abb5106-5ca2-444a-905a-abbd6895fa9f')\"\n",
              "              title=\"Convert this dataframe to an interactive table.\"\n",
              "              style=\"display:none;\">\n",
              "        \n",
              "  <svg xmlns=\"http://www.w3.org/2000/svg\" height=\"24px\"viewBox=\"0 0 24 24\"\n",
              "       width=\"24px\">\n",
              "    <path d=\"M0 0h24v24H0V0z\" fill=\"none\"/>\n",
              "    <path d=\"M18.56 5.44l.94 2.06.94-2.06 2.06-.94-2.06-.94-.94-2.06-.94 2.06-2.06.94zm-11 1L8.5 8.5l.94-2.06 2.06-.94-2.06-.94L8.5 2.5l-.94 2.06-2.06.94zm10 10l.94 2.06.94-2.06 2.06-.94-2.06-.94-.94-2.06-.94 2.06-2.06.94z\"/><path d=\"M17.41 7.96l-1.37-1.37c-.4-.4-.92-.59-1.43-.59-.52 0-1.04.2-1.43.59L10.3 9.45l-7.72 7.72c-.78.78-.78 2.05 0 2.83L4 21.41c.39.39.9.59 1.41.59.51 0 1.02-.2 1.41-.59l7.78-7.78 2.81-2.81c.8-.78.8-2.07 0-2.86zM5.41 20L4 18.59l7.72-7.72 1.47 1.35L5.41 20z\"/>\n",
              "  </svg>\n",
              "      </button>\n",
              "      \n",
              "  <style>\n",
              "    .colab-df-container {\n",
              "      display:flex;\n",
              "      flex-wrap:wrap;\n",
              "      gap: 12px;\n",
              "    }\n",
              "\n",
              "    .colab-df-convert {\n",
              "      background-color: #E8F0FE;\n",
              "      border: none;\n",
              "      border-radius: 50%;\n",
              "      cursor: pointer;\n",
              "      display: none;\n",
              "      fill: #1967D2;\n",
              "      height: 32px;\n",
              "      padding: 0 0 0 0;\n",
              "      width: 32px;\n",
              "    }\n",
              "\n",
              "    .colab-df-convert:hover {\n",
              "      background-color: #E2EBFA;\n",
              "      box-shadow: 0px 1px 2px rgba(60, 64, 67, 0.3), 0px 1px 3px 1px rgba(60, 64, 67, 0.15);\n",
              "      fill: #174EA6;\n",
              "    }\n",
              "\n",
              "    [theme=dark] .colab-df-convert {\n",
              "      background-color: #3B4455;\n",
              "      fill: #D2E3FC;\n",
              "    }\n",
              "\n",
              "    [theme=dark] .colab-df-convert:hover {\n",
              "      background-color: #434B5C;\n",
              "      box-shadow: 0px 1px 3px 1px rgba(0, 0, 0, 0.15);\n",
              "      filter: drop-shadow(0px 1px 2px rgba(0, 0, 0, 0.3));\n",
              "      fill: #FFFFFF;\n",
              "    }\n",
              "  </style>\n",
              "\n",
              "      <script>\n",
              "        const buttonEl =\n",
              "          document.querySelector('#df-6abb5106-5ca2-444a-905a-abbd6895fa9f button.colab-df-convert');\n",
              "        buttonEl.style.display =\n",
              "          google.colab.kernel.accessAllowed ? 'block' : 'none';\n",
              "\n",
              "        async function convertToInteractive(key) {\n",
              "          const element = document.querySelector('#df-6abb5106-5ca2-444a-905a-abbd6895fa9f');\n",
              "          const dataTable =\n",
              "            await google.colab.kernel.invokeFunction('convertToInteractive',\n",
              "                                                     [key], {});\n",
              "          if (!dataTable) return;\n",
              "\n",
              "          const docLinkHtml = 'Like what you see? Visit the ' +\n",
              "            '<a target=\"_blank\" href=https://colab.research.google.com/notebooks/data_table.ipynb>data table notebook</a>'\n",
              "            + ' to learn more about interactive tables.';\n",
              "          element.innerHTML = '';\n",
              "          dataTable['output_type'] = 'display_data';\n",
              "          await google.colab.output.renderOutput(dataTable, element);\n",
              "          const docLink = document.createElement('div');\n",
              "          docLink.innerHTML = docLinkHtml;\n",
              "          element.appendChild(docLink);\n",
              "        }\n",
              "      </script>\n",
              "    </div>\n",
              "  </div>\n",
              "  "
            ]
          },
          "metadata": {},
          "execution_count": 51
        }
      ]
    },
    {
      "cell_type": "code",
      "source": [
        "from google.colab import files\n",
        "files.download('DsubmissionGRU.csv')"
      ],
      "metadata": {
        "colab": {
          "base_uri": "https://localhost:8080/",
          "height": 17
        },
        "outputId": "b696ba67-eda3-4270-9400-f1f93892bd82",
        "id": "pfWvm2e4QCDi"
      },
      "execution_count": 52,
      "outputs": [
        {
          "output_type": "display_data",
          "data": {
            "text/plain": [
              "<IPython.core.display.Javascript object>"
            ],
            "application/javascript": [
              "\n",
              "    async function download(id, filename, size) {\n",
              "      if (!google.colab.kernel.accessAllowed) {\n",
              "        return;\n",
              "      }\n",
              "      const div = document.createElement('div');\n",
              "      const label = document.createElement('label');\n",
              "      label.textContent = `Downloading \"${filename}\": `;\n",
              "      div.appendChild(label);\n",
              "      const progress = document.createElement('progress');\n",
              "      progress.max = size;\n",
              "      div.appendChild(progress);\n",
              "      document.body.appendChild(div);\n",
              "\n",
              "      const buffers = [];\n",
              "      let downloaded = 0;\n",
              "\n",
              "      const channel = await google.colab.kernel.comms.open(id);\n",
              "      // Send a message to notify the kernel that we're ready.\n",
              "      channel.send({})\n",
              "\n",
              "      for await (const message of channel.messages) {\n",
              "        // Send a message to notify the kernel that we're ready.\n",
              "        channel.send({})\n",
              "        if (message.buffers) {\n",
              "          for (const buffer of message.buffers) {\n",
              "            buffers.push(buffer);\n",
              "            downloaded += buffer.byteLength;\n",
              "            progress.value = downloaded;\n",
              "          }\n",
              "        }\n",
              "      }\n",
              "      const blob = new Blob(buffers, {type: 'application/binary'});\n",
              "      const a = document.createElement('a');\n",
              "      a.href = window.URL.createObjectURL(blob);\n",
              "      a.download = filename;\n",
              "      div.appendChild(a);\n",
              "      a.click();\n",
              "      div.remove();\n",
              "    }\n",
              "  "
            ]
          },
          "metadata": {}
        },
        {
          "output_type": "display_data",
          "data": {
            "text/plain": [
              "<IPython.core.display.Javascript object>"
            ],
            "application/javascript": [
              "download(\"download_e1b6943f-acfb-4f9b-b5e8-36a215738168\", \"DsubmissionGRU.csv\", 22746)"
            ]
          },
          "metadata": {}
        }
      ]
    },
    {
      "cell_type": "markdown",
      "source": [
        "# Bidirectional RNN"
      ],
      "metadata": {
        "id": "pJ904E1sQoJ2"
      }
    },
    {
      "cell_type": "markdown",
      "source": [
        "### Model Training"
      ],
      "metadata": {
        "id": "1xebrEJzdpGe"
      }
    },
    {
      "cell_type": "code",
      "source": [
        "from tensorflow.keras.layers import Input, Bidirectional, LSTM, Dense, Masking"
      ],
      "metadata": {
        "id": "hXYw5cdwQsmy"
      },
      "execution_count": 53,
      "outputs": []
    },
    {
      "cell_type": "code",
      "source": [
        "# Tokenize the data\n",
        "input_ids = tokenizer(train_data['text'].tolist(), truncation=True, padding=True, max_length=128, return_tensors='tf')"
      ],
      "metadata": {
        "id": "025oBf7RQ_LW"
      },
      "execution_count": 54,
      "outputs": []
    },
    {
      "cell_type": "code",
      "source": [
        "# Prepare the data\n",
        "X_train = {'input_ids': input_ids['input_ids'], 'attention_mask': input_ids['attention_mask']}\n",
        "y_train = train_data['target'].values"
      ],
      "metadata": {
        "id": "uRs4JGaLQ_LY"
      },
      "execution_count": 55,
      "outputs": []
    },
    {
      "cell_type": "code",
      "source": [
        "input_ids_in = Input(shape=(78,), name='input_ids', dtype='int32')\n",
        "mask_in = Input(shape=(78,), name='attention_mask', dtype='int32')"
      ],
      "metadata": {
        "id": "LhNR7uEtQ_LY"
      },
      "execution_count": 56,
      "outputs": []
    },
    {
      "cell_type": "code",
      "source": [
        "# We access the transformer model within our bert_model\n",
        "embedding_layer = bert_model.layers[0]\n",
        "embeddings = embedding_layer(input_ids_in, attention_mask=mask_in)[0]"
      ],
      "metadata": {
        "id": "Fj-BDN43Q_LZ"
      },
      "execution_count": 57,
      "outputs": []
    },
    {
      "cell_type": "code",
      "source": [
        "# Define the model architecture with Bidirectional RNN\n",
        "def build_bidirectional_model():\n",
        "    embeddings = bert_model(input_ids_in, attention_mask=mask_in)[0]\n",
        "    rnn_input = Masking(mask_value=0)(embeddings)\n",
        "    rnn_output = Bidirectional(LSTM(units=64))(rnn_input)\n",
        "    output = Dense(units=1, activation='sigmoid')(rnn_output)\n",
        "    model = Model(inputs=[input_ids_in, mask_in], outputs=output)\n",
        "    return model"
      ],
      "metadata": {
        "id": "mXPQrKcAQ_LZ"
      },
      "execution_count": 58,
      "outputs": []
    },
    {
      "cell_type": "code",
      "source": [
        "# Build and compile the Bidirectional LSTM model\n",
        "bidirectional_model = build_bidirectional_model()\n",
        "bidirectional_model.compile(optimizer=Adam(learning_rate=1e-5), loss='binary_crossentropy', metrics=['accuracy'])"
      ],
      "metadata": {
        "id": "pYKPKcASQ_La"
      },
      "execution_count": 59,
      "outputs": []
    },
    {
      "cell_type": "code",
      "source": [
        "bidirectional_model.summary()"
      ],
      "metadata": {
        "colab": {
          "base_uri": "https://localhost:8080/"
        },
        "outputId": "5ad0110d-f851-4e7c-db67-77145cd1ff9b",
        "id": "yFs7GgjhQ_La"
      },
      "execution_count": 60,
      "outputs": [
        {
          "output_type": "stream",
          "name": "stdout",
          "text": [
            "Model: \"model_3\"\n",
            "__________________________________________________________________________________________________\n",
            " Layer (type)                   Output Shape         Param #     Connected to                     \n",
            "==================================================================================================\n",
            " input_ids (InputLayer)         [(None, 78)]         0           []                               \n",
            "                                                                                                  \n",
            " attention_mask (InputLayer)    [(None, 78)]         0           []                               \n",
            "                                                                                                  \n",
            " tf_bert_model (TFBertModel)    TFBaseModelOutputWi  109482240   ['input_ids[0][0]',              \n",
            "                                thPoolingAndCrossAt               'attention_mask[0][0]']         \n",
            "                                tentions(last_hidde                                               \n",
            "                                n_state=(None, 78,                                                \n",
            "                                768),                                                             \n",
            "                                 pooler_output=(Non                                               \n",
            "                                e, 768),                                                          \n",
            "                                 past_key_values=No                                               \n",
            "                                ne, hidden_states=N                                               \n",
            "                                one, attentions=Non                                               \n",
            "                                e, cross_attentions                                               \n",
            "                                =None)                                                            \n",
            "                                                                                                  \n",
            " masking_3 (Masking)            (None, 78, 768)      0           ['tf_bert_model[3][0]']          \n",
            "                                                                                                  \n",
            " bidirectional (Bidirectional)  (None, 128)          426496      ['masking_3[0][0]']              \n",
            "                                                                                                  \n",
            " dense_3 (Dense)                (None, 1)            129         ['bidirectional[0][0]']          \n",
            "                                                                                                  \n",
            "==================================================================================================\n",
            "Total params: 109,908,865\n",
            "Trainable params: 109,908,865\n",
            "Non-trainable params: 0\n",
            "__________________________________________________________________________________________________\n"
          ]
        }
      ]
    },
    {
      "cell_type": "code",
      "source": [
        "# Train the Bidirectional LSTM model\n",
        "bidirectional_model.fit(X_train, y_train, epochs=6, verbose=1)"
      ],
      "metadata": {
        "colab": {
          "base_uri": "https://localhost:8080/"
        },
        "id": "YM0bGgI_Q6K_",
        "outputId": "15c99730-c014-4fc8-894c-86da4cc39609"
      },
      "execution_count": 61,
      "outputs": [
        {
          "output_type": "stream",
          "name": "stdout",
          "text": [
            "Epoch 1/6\n"
          ]
        },
        {
          "output_type": "stream",
          "name": "stderr",
          "text": [
            "WARNING:tensorflow:Gradients do not exist for variables ['tf_bert_model/bert/pooler/dense/kernel:0', 'tf_bert_model/bert/pooler/dense/bias:0'] when minimizing the loss. If you're using `model.compile()`, did you forget to provide a `loss` argument?\n",
            "WARNING:tensorflow:Gradients do not exist for variables ['tf_bert_model/bert/pooler/dense/kernel:0', 'tf_bert_model/bert/pooler/dense/bias:0'] when minimizing the loss. If you're using `model.compile()`, did you forget to provide a `loss` argument?\n",
            "WARNING:tensorflow:Gradients do not exist for variables ['tf_bert_model/bert/pooler/dense/kernel:0', 'tf_bert_model/bert/pooler/dense/bias:0'] when minimizing the loss. If you're using `model.compile()`, did you forget to provide a `loss` argument?\n",
            "WARNING:tensorflow:Gradients do not exist for variables ['tf_bert_model/bert/pooler/dense/kernel:0', 'tf_bert_model/bert/pooler/dense/bias:0'] when minimizing the loss. If you're using `model.compile()`, did you forget to provide a `loss` argument?\n"
          ]
        },
        {
          "output_type": "stream",
          "name": "stdout",
          "text": [
            "238/238 [==============================] - 86s 140ms/step - loss: 0.0851 - accuracy: 0.9725\n",
            "Epoch 2/6\n",
            "238/238 [==============================] - 22s 91ms/step - loss: 0.0481 - accuracy: 0.9815\n",
            "Epoch 3/6\n",
            "238/238 [==============================] - 21s 87ms/step - loss: 0.0428 - accuracy: 0.9828\n",
            "Epoch 4/6\n",
            "238/238 [==============================] - 20s 83ms/step - loss: 0.0432 - accuracy: 0.9841\n",
            "Epoch 5/6\n",
            "238/238 [==============================] - 20s 83ms/step - loss: 0.0347 - accuracy: 0.9858\n",
            "Epoch 6/6\n",
            "238/238 [==============================] - 20s 84ms/step - loss: 0.0330 - accuracy: 0.9862\n"
          ]
        },
        {
          "output_type": "execute_result",
          "data": {
            "text/plain": [
              "<keras.callbacks.History at 0x7f39355fd8d0>"
            ]
          },
          "metadata": {},
          "execution_count": 61
        }
      ]
    },
    {
      "cell_type": "code",
      "source": [
        "epochs = range(1, 7)\n",
        "training_acc = [0.9725, 0.9815, 0.9828, 0.9841, 0.9858, 0.9862]\n",
        "training_loss = [0.0851, 0.0481, 0.0428, 0.0432, 0.0347, 0.0330]\n",
        "\n",
        "# Plot the training accuracy\n",
        "plt.figure(figsize=(8, 6))\n",
        "plt.plot(epochs, training_acc, marker='o', linestyle='-', color='blue')\n",
        "plt.title('Training Accuracy over Epochs')\n",
        "plt.xlabel('Epoch')\n",
        "plt.ylabel('Accuracy')\n",
        "plt.xticks(epochs)\n",
        "plt.grid(True)\n",
        "plt.show()"
      ],
      "metadata": {
        "colab": {
          "base_uri": "https://localhost:8080/",
          "height": 564
        },
        "id": "JpNsbL60RnDx",
        "outputId": "c456231e-c038-4e02-e929-340db683314e"
      },
      "execution_count": 11,
      "outputs": [
        {
          "output_type": "display_data",
          "data": {
            "text/plain": [
              "<Figure size 800x600 with 1 Axes>"
            ],
            "image/png": "[encoded data removed]"
          },
          "metadata": {}
        }
      ]
    },
    {
      "cell_type": "code",
      "source": [
        "# Plot the training loss\n",
        "plt.figure(figsize=(8, 6))\n",
        "plt.plot(epochs, training_loss, marker='o', linestyle='-', color='red')\n",
        "plt.title('Training Loss over Epochs')\n",
        "plt.xlabel('Epoch')\n",
        "plt.ylabel('Loss')\n",
        "plt.xticks(epochs)\n",
        "plt.grid(True)\n",
        "plt.show()"
      ],
      "metadata": {
        "colab": {
          "base_uri": "https://localhost:8080/",
          "height": 564
        },
        "id": "QDaE1IdQYrqQ",
        "outputId": "78b33594-10d6-4c05-c9bb-6e406da0f88a"
      },
      "execution_count": 12,
      "outputs": [
        {
          "output_type": "display_data",
          "data": {
            "text/plain": [
              "<Figure size 800x600 with 1 Axes>"
            ],
            "image/png": "[encoded data removed]"
          },
          "metadata": {}
        }
      ]
    },
    {
      "cell_type": "markdown",
      "source": [
        "### Predicting on the Test Set"
      ],
      "metadata": {
        "id": "Yf33Yx_RdsWM"
      }
    },
    {
      "cell_type": "code",
      "source": [
        "# Load test data\n",
        "test_data = pd.read_csv('/content/drive/MyDrive/testD.csv')"
      ],
      "metadata": {
        "id": "mItrrwBWRq_H"
      },
      "execution_count": 62,
      "outputs": []
    },
    {
      "cell_type": "code",
      "source": [
        "# Combine text and keyword columns\n",
        "test_data['text'] = test_data['text'] + ' ' + test_data['keyword'].fillna('')"
      ],
      "metadata": {
        "id": "v4ogvjkaRq_I"
      },
      "execution_count": 63,
      "outputs": []
    },
    {
      "cell_type": "code",
      "source": [
        "# Preprocessing\n",
        "test_data['text'] = test_data['text'].apply(preprocess_text)"
      ],
      "metadata": {
        "id": "fOYaTk6qRq_J"
      },
      "execution_count": 64,
      "outputs": []
    },
    {
      "cell_type": "code",
      "source": [
        "# Tokenize the test data\n",
        "input_ids_test = tokenizer(test_data['text'].tolist(), truncation=True, padding='max_length', max_length=78, return_tensors='tf')\n",
        "\n",
        "# Prepare the test data\n",
        "X_test = {\n",
        "    'input_ids': input_ids_test['input_ids'],\n",
        "    'attention_mask': input_ids_test['attention_mask']\n",
        "}"
      ],
      "metadata": {
        "id": "ugAhZlzSRq_K"
      },
      "execution_count": 65,
      "outputs": []
    },
    {
      "cell_type": "code",
      "source": [
        "# Generate predictions\n",
        "predictions = bidirectional_model.predict(X_test)"
      ],
      "metadata": {
        "colab": {
          "base_uri": "https://localhost:8080/"
        },
        "outputId": "0340a42d-3346-4509-ba77-9ee4036d8c2d",
        "id": "_cy65sykRq_L"
      },
      "execution_count": 66,
      "outputs": [
        {
          "output_type": "stream",
          "name": "stdout",
          "text": [
            "102/102 [==============================] - 9s 34ms/step\n"
          ]
        }
      ]
    },
    {
      "cell_type": "code",
      "source": [
        "# Convert prediction probabilities to binary predictions\n",
        "predictions_binary = [1 if pred >= 0.5 else 0 for pred in predictions]"
      ],
      "metadata": {
        "id": "lJ1XFeKVRq_L"
      },
      "execution_count": 67,
      "outputs": []
    },
    {
      "cell_type": "code",
      "source": [
        "# Create a DataFrame with id and target columns\n",
        "submission_df = pd.DataFrame({'id': test_data['id'], 'target': predictions_binary})\n",
        "\n",
        "# Save the DataFrame to CSV\n",
        "submission_df.to_csv('DsubmissionBi.csv', index=False)"
      ],
      "metadata": {
        "id": "giNOOu2hRq_M"
      },
      "execution_count": 68,
      "outputs": []
    },
    {
      "cell_type": "code",
      "source": [
        "submission_df.head(5)"
      ],
      "metadata": {
        "colab": {
          "base_uri": "https://localhost:8080/",
          "height": 204
        },
        "outputId": "1f7b4c59-db52-4510-f912-dbcc10d1dd80",
        "id": "UgmGDahrRq_N"
      },
      "execution_count": 69,
      "outputs": [
        {
          "output_type": "execute_result",
          "data": {
            "text/plain": [
              "   id  target\n",
              "0   0       1\n",
              "1   2       1\n",
              "2   3       1\n",
              "3   9       0\n",
              "4  11       1"
            ],
            "text/html": [
              "\n",
              "  <div id=\"df-d36a3617-bcd9-429e-9748-e2ff279eb717\">\n",
              "    <div class=\"colab-df-container\">\n",
              "      <div>\n",
              "<style scoped>\n",
              "    .dataframe tbody tr th:only-of-type {\n",
              "        vertical-align: middle;\n",
              "    }\n",
              "\n",
              "    .dataframe tbody tr th {\n",
              "        vertical-align: top;\n",
              "    }\n",
              "\n",
              "    .dataframe thead th {\n",
              "        text-align: right;\n",
              "    }\n",
              "</style>\n",
              "<table border=\"1\" class=\"dataframe\">\n",
              "  <thead>\n",
              "    <tr style=\"text-align: right;\">\n",
              "      <th></th>\n",
              "      <th>id</th>\n",
              "      <th>target</th>\n",
              "    </tr>\n",
              "  </thead>\n",
              "  <tbody>\n",
              "    <tr>\n",
              "      <th>0</th>\n",
              "      <td>0</td>\n",
              "      <td>1</td>\n",
              "    </tr>\n",
              "    <tr>\n",
              "      <th>1</th>\n",
              "      <td>2</td>\n",
              "      <td>1</td>\n",
              "    </tr>\n",
              "    <tr>\n",
              "      <th>2</th>\n",
              "      <td>3</td>\n",
              "      <td>1</td>\n",
              "    </tr>\n",
              "    <tr>\n",
              "      <th>3</th>\n",
              "      <td>9</td>\n",
              "      <td>0</td>\n",
              "    </tr>\n",
              "    <tr>\n",
              "      <th>4</th>\n",
              "      <td>11</td>\n",
              "      <td>1</td>\n",
              "    </tr>\n",
              "  </tbody>\n",
              "</table>\n",
              "</div>\n",
              "      <button class=\"colab-df-convert\" onclick=\"convertToInteractive('df-d36a3617-bcd9-429e-9748-e2ff279eb717')\"\n",
              "              title=\"Convert this dataframe to an interactive table.\"\n",
              "              style=\"display:none;\">\n",
              "        \n",
              "  <svg xmlns=\"http://www.w3.org/2000/svg\" height=\"24px\"viewBox=\"0 0 24 24\"\n",
              "       width=\"24px\">\n",
              "    <path d=\"M0 0h24v24H0V0z\" fill=\"none\"/>\n",
              "    <path d=\"M18.56 5.44l.94 2.06.94-2.06 2.06-.94-2.06-.94-.94-2.06-.94 2.06-2.06.94zm-11 1L8.5 8.5l.94-2.06 2.06-.94-2.06-.94L8.5 2.5l-.94 2.06-2.06.94zm10 10l.94 2.06.94-2.06 2.06-.94-2.06-.94-.94-2.06-.94 2.06-2.06.94z\"/><path d=\"M17.41 7.96l-1.37-1.37c-.4-.4-.92-.59-1.43-.59-.52 0-1.04.2-1.43.59L10.3 9.45l-7.72 7.72c-.78.78-.78 2.05 0 2.83L4 21.41c.39.39.9.59 1.41.59.51 0 1.02-.2 1.41-.59l7.78-7.78 2.81-2.81c.8-.78.8-2.07 0-2.86zM5.41 20L4 18.59l7.72-7.72 1.47 1.35L5.41 20z\"/>\n",
              "  </svg>\n",
              "      </button>\n",
              "      \n",
              "  <style>\n",
              "    .colab-df-container {\n",
              "      display:flex;\n",
              "      flex-wrap:wrap;\n",
              "      gap: 12px;\n",
              "    }\n",
              "\n",
              "    .colab-df-convert {\n",
              "      background-color: #E8F0FE;\n",
              "      border: none;\n",
              "      border-radius: 50%;\n",
              "      cursor: pointer;\n",
              "      display: none;\n",
              "      fill: #1967D2;\n",
              "      height: 32px;\n",
              "      padding: 0 0 0 0;\n",
              "      width: 32px;\n",
              "    }\n",
              "\n",
              "    .colab-df-convert:hover {\n",
              "      background-color: #E2EBFA;\n",
              "      box-shadow: 0px 1px 2px rgba(60, 64, 67, 0.3), 0px 1px 3px 1px rgba(60, 64, 67, 0.15);\n",
              "      fill: #174EA6;\n",
              "    }\n",
              "\n",
              "    [theme=dark] .colab-df-convert {\n",
              "      background-color: #3B4455;\n",
              "      fill: #D2E3FC;\n",
              "    }\n",
              "\n",
              "    [theme=dark] .colab-df-convert:hover {\n",
              "      background-color: #434B5C;\n",
              "      box-shadow: 0px 1px 3px 1px rgba(0, 0, 0, 0.15);\n",
              "      filter: drop-shadow(0px 1px 2px rgba(0, 0, 0, 0.3));\n",
              "      fill: #FFFFFF;\n",
              "    }\n",
              "  </style>\n",
              "\n",
              "      <script>\n",
              "        const buttonEl =\n",
              "          document.querySelector('#df-d36a3617-bcd9-429e-9748-e2ff279eb717 button.colab-df-convert');\n",
              "        buttonEl.style.display =\n",
              "          google.colab.kernel.accessAllowed ? 'block' : 'none';\n",
              "\n",
              "        async function convertToInteractive(key) {\n",
              "          const element = document.querySelector('#df-d36a3617-bcd9-429e-9748-e2ff279eb717');\n",
              "          const dataTable =\n",
              "            await google.colab.kernel.invokeFunction('convertToInteractive',\n",
              "                                                     [key], {});\n",
              "          if (!dataTable) return;\n",
              "\n",
              "          const docLinkHtml = 'Like what you see? Visit the ' +\n",
              "            '<a target=\"_blank\" href=https://colab.research.google.com/notebooks/data_table.ipynb>data table notebook</a>'\n",
              "            + ' to learn more about interactive tables.';\n",
              "          element.innerHTML = '';\n",
              "          dataTable['output_type'] = 'display_data';\n",
              "          await google.colab.output.renderOutput(dataTable, element);\n",
              "          const docLink = document.createElement('div');\n",
              "          docLink.innerHTML = docLinkHtml;\n",
              "          element.appendChild(docLink);\n",
              "        }\n",
              "      </script>\n",
              "    </div>\n",
              "  </div>\n",
              "  "
            ]
          },
          "metadata": {},
          "execution_count": 69
        }
      ]
    },
    {
      "cell_type": "code",
      "source": [
        "from google.colab import files\n",
        "files.download('DsubmissionBi.csv')"
      ],
      "metadata": {
        "colab": {
          "base_uri": "https://localhost:8080/",
          "height": 17
        },
        "outputId": "c2bc2205-065e-4a6c-e52d-d2be2b82a7a8",
        "id": "PLq0FEAzRq_P"
      },
      "execution_count": 70,
      "outputs": [
        {
          "output_type": "display_data",
          "data": {
            "text/plain": [
              "<IPython.core.display.Javascript object>"
            ],
            "application/javascript": [
              "\n",
              "    async function download(id, filename, size) {\n",
              "      if (!google.colab.kernel.accessAllowed) {\n",
              "        return;\n",
              "      }\n",
              "      const div = document.createElement('div');\n",
              "      const label = document.createElement('label');\n",
              "      label.textContent = `Downloading \"${filename}\": `;\n",
              "      div.appendChild(label);\n",
              "      const progress = document.createElement('progress');\n",
              "      progress.max = size;\n",
              "      div.appendChild(progress);\n",
              "      document.body.appendChild(div);\n",
              "\n",
              "      const buffers = [];\n",
              "      let downloaded = 0;\n",
              "\n",
              "      const channel = await google.colab.kernel.comms.open(id);\n",
              "      // Send a message to notify the kernel that we're ready.\n",
              "      channel.send({})\n",
              "\n",
              "      for await (const message of channel.messages) {\n",
              "        // Send a message to notify the kernel that we're ready.\n",
              "        channel.send({})\n",
              "        if (message.buffers) {\n",
              "          for (const buffer of message.buffers) {\n",
              "            buffers.push(buffer);\n",
              "            downloaded += buffer.byteLength;\n",
              "            progress.value = downloaded;\n",
              "          }\n",
              "        }\n",
              "      }\n",
              "      const blob = new Blob(buffers, {type: 'application/binary'});\n",
              "      const a = document.createElement('a');\n",
              "      a.href = window.URL.createObjectURL(blob);\n",
              "      a.download = filename;\n",
              "      div.appendChild(a);\n",
              "      a.click();\n",
              "      div.remove();\n",
              "    }\n",
              "  "
            ]
          },
          "metadata": {}
        },
        {
          "output_type": "display_data",
          "data": {
            "text/plain": [
              "<IPython.core.display.Javascript object>"
            ],
            "application/javascript": [
              "download(\"download_6a09a9d8-4dc8-44dd-a85d-25280c7999ca\", \"DsubmissionBi.csv\", 22746)"
            ]
          },
          "metadata": {}
        }
      ]
    },
    {
      "cell_type": "markdown",
      "source": [
        "# Results and Discussion"
      ],
      "metadata": {
        "id": "aGDgQb6PWPAK"
      }
    },
    {
      "cell_type": "code",
      "source": [
        "import matplotlib.pyplot as plt\n",
        "import numpy as np\n",
        "\n",
        "# Define data\n",
        "models = ['RNN with LSTM', 'RNN with GRU', 'Bidirectional RNN']\n",
        "training_accuracy = [0.9513, 0.9786, 0.9862]\n",
        "testing_accuracy = [0.82102, 0.80508, 0.81673]\n",
        "\n",
        "# Define bar width\n",
        "bar_width = 0.35\n",
        "\n",
        "# Create index\n",
        "index = np.arange(len(models))\n",
        "\n",
        "# Create plot\n",
        "plt.figure(figsize=(10,6))\n",
        "\n",
        "bar1 = plt.bar(index, training_accuracy, bar_width, label='Training', color='b')\n",
        "bar2 = plt.bar(index + bar_width, testing_accuracy, bar_width, label='Testing', color='g')\n",
        "\n",
        "# Add labels and title\n",
        "plt.xlabel('Models')\n",
        "plt.ylabel('Accuracy')\n",
        "plt.title('Comparison of Different Models')\n",
        "plt.xticks(index + bar_width / 2, models)  # position x-axis labels in the center of the bars\n",
        "plt.legend()\n",
        "\n",
        "# Show plot\n",
        "plt.show()"
      ],
      "metadata": {
        "colab": {
          "base_uri": "https://localhost:8080/",
          "height": 564
        },
        "id": "52f2jn8bWfnM",
        "outputId": "2e1cb043-d0f2-4fc6-bf84-48b3db072c36"
      },
      "execution_count": 4,
      "outputs": [
        {
          "output_type": "display_data",
          "data": {
            "text/plain": [
              "<Figure size 1000x600 with 1 Axes>"
            ],
            "image/png": "[encoded data removed]"
          },
          "metadata": {}
        }
      ]
    },
    {
      "cell_type": "markdown",
      "source": [
        "![Screen Shot 2023-07-08 at 11.34.57 PM.png](data:image/png;base64,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)"
      ],
      "metadata": {
        "id": "2RqmyykQW-hF"
      }
    },
    {
      "cell_type": "markdown",
      "source": [
        "The testing accuracy scores are within an acceptable range at over 0.80. Notice that higher training accuracy does not always translate to higher accuracy. Bidirectional RNN while having a superior training accuracy at 0.9862 compared to RNN with LSTM at 0.9513, scored lower on the testing accuracy. This showcased that model complexity brought diminishing returns. A more advanced model might actually overfit the data and consequently have worse generalisability.\n",
        "\n",
        "Further research should experiment with other language model transformer such as 'bert_large_uncased' where the total number of parameters are over 300 millions, compared to 109 million parameters in our case. Because of constrains in computing resources, our project could not utilize this more advanced language model. Configuring the structure of the models is also an options. Adding more dense layers might further overfit the data though, so one has to proceed with caution. Experimenting with different optimizer besides 'Adam', and other learning rates are also viable."
      ],
      "metadata": {
        "id": "zkOxvbwgXH00"
      }
    }
  ]
}